{
 "cells": [
  {
   "cell_type": "markdown",
   "metadata": {},
   "source": [
    "# Cálculo - Tarefa 02\n",
    "\n",
    "1- Calcule de forma numérica a integral da função $x^3$ avaliada entre os pontos $1$ e $2$. Identifique o número de retângulos que você usou.  \n",
    "2- Calcule essa área de forma analítica."
   ]
  },
  {
   "cell_type": "code",
   "execution_count": 5,
   "metadata": {},
   "outputs": [],
   "source": [
    "import pandas as pd\n",
    "import numpy as np\n",
    "import matplotlib.pyplot as plt\n",
    "\n",
    "from matplotlib.animation import FuncAnimation, PillowWriter \n",
    "from IPython.display import HTML\n",
    "import warnings\n",
    "\n",
    "%matplotlib inline"
   ]
  },
  {
   "cell_type": "code",
   "execution_count": 34,
   "metadata": {},
   "outputs": [
    {
     "data": {
      "image/png": "[encoded data removed]",
      "text/plain": [
       "<Figure size 640x480 with 2 Axes>"
      ]
     },
     "metadata": {},
     "output_type": "display_data"
    }
   ],
   "source": [
    "warnings.filterwarnings(\"ignore\")\n",
    "\n",
    "f = lambda x3: np.exp(x3)\n",
    "\n",
    "def calcula_area(a, b, func, frame_num):\n",
    "    num_bins=frame_num+1 #Quantidade de retangulos\n",
    "    delta = (b-a)/num_bins #largura dos retangulos\n",
    "    x_cols = np.linspace(a, b-delta, num_bins)+delta/2\n",
    "    y_cols = f(x_cols)\n",
    "    return (delta*y_cols)\n",
    "\n",
    "def animate(n, a=1, b=2, func=f, verdadeiro_valor = 2):\n",
    "\n",
    "    plt.cla()\n",
    "    ax = plt.axes(xlim=(a, b), ylim = (1, 2))\n",
    "    \n",
    "    x = np.linspace(a, b, 100)\n",
    "    y = f(x)\n",
    "    ax.plot(x, y, '-');\n",
    "    \n",
    "    num_bins=n+1\n",
    "    delta = (b-a)/num_bins\n",
    "    x_cols = np.linspace(a, b-delta, num_bins)+delta/2\n",
    "    y_cols = f(x_cols)\n",
    "\n",
    "    bar = ax.bar(x_cols, y_cols, alpha=.5, width=delta, edgecolor='blue')\n",
    "    \n",
    "    soma_riemann = calcula_area(a, b, func, n)\n",
    "    \n",
    "    erro = verdadeiro_valor - soma_riemann\n",
    "    ax.set_title(f'Soma de Riemann')\n",
    "    \n",
    "    return bar\n",
    "animate(50);"
   ]
  },
  {
   "cell_type": "code",
   "execution_count": null,
   "metadata": {},
   "outputs": [],
   "source": []
  }
 ],
 "metadata": {
  "kernelspec": {
   "display_name": "Python 3 (ipykernel)",
   "language": "python",
   "name": "python3"
  },
  "language_info": {
   "codemirror_mode": {
    "name": "ipython",
    "version": 3
   },
   "file_extension": ".py",
   "mimetype": "text/x-python",
   "name": "python",
   "nbconvert_exporter": "python",
   "pygments_lexer": "ipython3",
   "version": "3.9.13"
  },
  "toc": {
   "base_numbering": 1,
   "nav_menu": {},
   "number_sections": true,
   "sideBar": true,
   "skip_h1_title": true,
   "title_cell": "Índice",
   "title_sidebar": "Conteúdo",
   "toc_cell": false,
   "toc_position": {},
   "toc_section_display": true,
   "toc_window_display": false
  },
  "varInspector": {
   "cols": {
    "lenName": 16,
    "lenType": 16,
    "lenVar": 40
   },
   "kernels_config": {
    "python": {
     "delete_cmd_postfix": "",
     "delete_cmd_prefix": "del ",
     "library": "var_list.py",
     "varRefreshCmd": "print(var_dic_list())"
    },
    "r": {
     "delete_cmd_postfix": ") ",
     "delete_cmd_prefix": "rm(",
     "library": "var_list.r",
     "varRefreshCmd": "cat(var_dic_list()) "
    }
   },
   "types_to_exclude": [
    "module",
    "function",
    "builtin_function_or_method",
    "instance",
    "_Feature"
   ],
   "window_display": false
  }
 },
 "nbformat": 4,
 "nbformat_minor": 4
}
