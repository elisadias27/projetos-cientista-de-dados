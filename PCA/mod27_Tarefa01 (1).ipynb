{
 "cells": [
  {
   "cell_type": "markdown",
   "metadata": {},
   "source": [
    "![Cabec%CC%A7alho_notebook.png](cabecalho_notebook.png)"
   ]
  },
  {
   "cell_type": "markdown",
   "metadata": {},
   "source": [
    "# PCA - Tarefa 01: *HAR* com PCA\n",
    "\n",
    "Vamos trabalhar com a base da demonstração feita em aula, mas vamos explorar um pouco melhor como é o desempenho da árvore variando o número de componentes principais."
   ]
  },
  {
   "cell_type": "code",
   "execution_count": 4,
   "metadata": {},
   "outputs": [],
   "source": [
    "import pandas as pd\n",
    "import matplotlib.pyplot as plt\n",
    "import seaborn as sns\n",
    "import numpy as np\n",
    "import warnings\n",
    "\n",
    "from sklearn.tree import DecisionTreeClassifier\n",
    "\n",
    "from sklearn.decomposition import PCA\n",
    "from sklearn.metrics import accuracy_score\n",
    "from sklearn.model_selection import cross_val_score\n",
    "from sklearn.model_selection import GridSearchCV\n",
    "from sklearn.model_selection import train_test_split"
   ]
  },
  {
   "cell_type": "code",
   "execution_count": 7,
   "metadata": {},
   "outputs": [],
   "source": [
    "warnings.filterwarnings(\"ignore\")\n",
    "\n",
    "filename_features = \"features.txt\"\n",
    "filename_labels = \"activity_labels.txt\"\n",
    "\n",
    "filename_subtrain = \"subject_train.txt\"\n",
    "filename_xtrain = \"X_train.txt\"\n",
    "filename_ytrain = \"y_train.txt\"\n",
    "\n",
    "filename_subtest = \"subject_test.txt\"\n",
    "ffilename_xtest = \"X_test.txt\"\n",
    "filename_ytest = \"y_test.txt\"\n",
    "\n",
    "features = pd.read_csv(filename_features, header=None, names=['nome_var'], squeeze=True, sep=\"#\")\n",
    "labels = pd.read_csv(filename_labels, delim_whitespace=True, header=None, names=['cod_label', 'label'])\n",
    "\n",
    "subject_train = pd.read_csv(filename_subtrain, header=None, names=['subject_id'], squeeze=True)\n",
    "X_train = pd.read_csv(filename_xtrain, delim_whitespace=True, header=None, names=features.tolist())\n",
    "y_train = pd.read_csv(filename_ytrain, header=None, names=['cod_label'])\n",
    "\n",
    "subject_test = pd.read_csv(filename_subtest, header=None, names=['subject_id'], squeeze=True)\n",
    "X_test = pd.read_csv(ffilename_xtest, delim_whitespace=True, header=None, names=features.tolist())\n",
    "y_test = pd.read_csv(filename_ytest, header=None, names=['cod_label'])"
   ]
  },
  {
   "cell_type": "markdown",
   "metadata": {},
   "source": [
    "## Árvore de decisão\n",
    "\n",
    "Rode uma árvore de decisão com todas as variáveis, utilizando o ```ccp_alpha=0.001```. Avalie a acurácia nas bases de treinamento e teste. Avalie o tempo de processamento."
   ]
  },
  {
   "cell_type": "code",
   "execution_count": 8,
   "metadata": {
    "scrolled": true
   },
   "outputs": [],
   "source": [
    "X_train, X_valid, y_train, y_valid = train_test_split(X_train, y_train)"
   ]
  },
  {
   "cell_type": "code",
   "execution_count": 16,
   "metadata": {},
   "outputs": [
    {
     "name": "stdout",
     "output_type": "stream",
     "text": [
      "Wall time: 2.56 s\n"
     ]
    }
   ],
   "source": [
    "%%time\n",
    "\n",
    "clf = DecisionTreeClassifier(ccp_alpha=0.001).fit(X_train, y_train)"
   ]
  },
  {
   "cell_type": "code",
   "execution_count": 18,
   "metadata": {},
   "outputs": [
    {
     "data": {
      "image/png": "[encoded data removed]",
      "text/plain": [
       "<Figure size 640x480 with 1 Axes>"
      ]
     },
     "metadata": {},
     "output_type": "display_data"
    },
    {
     "name": "stdout",
     "output_type": "stream",
     "text": [
      "Wall time: 1.34 s\n"
     ]
    }
   ],
   "source": [
    "%%time\n",
    "\n",
    "train_scores = [clf.score(X_train, y_train) for clf in clfs]\n",
    "test_scores = [clf.score(X_test, y_test) for clf in clfs]\n",
    "\n",
    "fig, ax = plt.subplots()\n",
    "ax.set_xlabel(\"base\")\n",
    "ax.set_ylabel(\"Acurácia\")\n",
    "ax.set_title(\"Acurácia x base do conjunto de dados de treino e teste\")\n",
    "ax.plot(ccp_alphas, train_scores, marker='o', label=\"treino\", drawstyle=\"steps-post\")\n",
    "ax.plot(ccp_alphas, test_scores, marker='o', label=\"teste\", drawstyle=\"steps-post\")\n",
    "ax.legend()\n",
    "plt.show()"
   ]
  },
  {
   "cell_type": "markdown",
   "metadata": {},
   "source": [
    "## Árvore com PCA\n",
    "\n",
    "Faça uma análise de componemtes principais das variáveis originais. Utilize apenas uma componente. Faça uma árvore de decisão com esta componente como variável explicativa.\n",
    "\n",
    "- Avalie a acurácia nas bases de treinamento e teste\n",
    "- Avalie o tempo de processamento"
   ]
  },
  {
   "cell_type": "code",
   "execution_count": 20,
   "metadata": {},
   "outputs": [
    {
     "name": "stdout",
     "output_type": "stream",
     "text": [
      "Wall time: 272 ms\n"
     ]
    },
    {
     "data": {
      "text/plain": [
       "(5514, 1)"
      ]
     },
     "execution_count": 20,
     "metadata": {},
     "output_type": "execute_result"
    }
   ],
   "source": [
    "%%time\n",
    "prcomp = PCA(n_components=1).fit(X_train)\n",
    "pc_treino  = prcomp.transform(X_train)\n",
    "pc_teste  = prcomp.transform(X_test)\n",
    "\n",
    "pc_treino.shape"
   ]
  },
  {
   "cell_type": "code",
   "execution_count": 23,
   "metadata": {},
   "outputs": [
    {
     "name": "stdout",
     "output_type": "stream",
     "text": [
      "Wall time: 0 ns\n"
     ]
    },
    {
     "data": {
      "text/html": [
       "<div>\n",
       "<style scoped>\n",
       "    .dataframe tbody tr th:only-of-type {\n",
       "        vertical-align: middle;\n",
       "    }\n",
       "\n",
       "    .dataframe tbody tr th {\n",
       "        vertical-align: top;\n",
       "    }\n",
       "\n",
       "    .dataframe thead th {\n",
       "        text-align: right;\n",
       "    }\n",
       "</style>\n",
       "<table border=\"1\" class=\"dataframe\">\n",
       "  <thead>\n",
       "    <tr style=\"text-align: right;\">\n",
       "      <th></th>\n",
       "      <th>cp1</th>\n",
       "    </tr>\n",
       "  </thead>\n",
       "  <tbody>\n",
       "    <tr>\n",
       "      <th>0</th>\n",
       "      <td>5.528346</td>\n",
       "    </tr>\n",
       "    <tr>\n",
       "      <th>1</th>\n",
       "      <td>6.281671</td>\n",
       "    </tr>\n",
       "    <tr>\n",
       "      <th>2</th>\n",
       "      <td>-5.457771</td>\n",
       "    </tr>\n",
       "    <tr>\n",
       "      <th>3</th>\n",
       "      <td>7.124429</td>\n",
       "    </tr>\n",
       "    <tr>\n",
       "      <th>4</th>\n",
       "      <td>13.852336</td>\n",
       "    </tr>\n",
       "  </tbody>\n",
       "</table>\n",
       "</div>"
      ],
      "text/plain": [
       "         cp1\n",
       "0   5.528346\n",
       "1   6.281671\n",
       "2  -5.457771\n",
       "3   7.124429\n",
       "4  13.852336"
      ]
     },
     "execution_count": 23,
     "metadata": {},
     "output_type": "execute_result"
    }
   ],
   "source": [
    "%%time\n",
    "n=1\n",
    "\n",
    "colunas = ['cp'+str(x+1) for x in list(range(n))]\n",
    "\n",
    "pc_train = pd.DataFrame(pc_treino[:,:n], columns = colunas)\n",
    "pc_test = pd.DataFrame(pc_teste[:,:n], columns = colunas)\n",
    "\n",
    "pc_train.head()"
   ]
  },
  {
   "cell_type": "code",
   "execution_count": 24,
   "metadata": {},
   "outputs": [
    {
     "name": "stdout",
     "output_type": "stream",
     "text": [
      "Wall time: 2.86 s\n"
     ]
    }
   ],
   "source": [
    "%%time\n",
    "clf = DecisionTreeClassifier(random_state=1234).fit(pc_train, y_train)\n",
    "\n",
    "caminho = DecisionTreeClassifier(random_state=2360873, min_samples_leaf=20).cost_complexity_pruning_path(pc_train, y_train)\n",
    "ccp_alphas, impurities = caminho.ccp_alphas, caminho.impurities\n",
    "\n",
    "ccp_alphas = np.unique(ccp_alphas[ccp_alphas>=0])\n",
    "\n",
    "clfs = []\n",
    "for ccp_alpha in ccp_alphas:\n",
    "    clf = DecisionTreeClassifier(random_state=2360873, ccp_alpha=ccp_alpha).fit(pc_train, y_train)\n",
    "    clfs.append(clf)"
   ]
  },
  {
   "cell_type": "code",
   "execution_count": 25,
   "metadata": {},
   "outputs": [
    {
     "data": {
      "image/png": "[encoded data removed]",
      "text/plain": [
       "<Figure size 640x480 with 1 Axes>"
      ]
     },
     "metadata": {},
     "output_type": "display_data"
    },
    {
     "name": "stdout",
     "output_type": "stream",
     "text": [
      "Wall time: 644 ms\n"
     ]
    }
   ],
   "source": [
    "%%time\n",
    "\n",
    "train_scores = [clf.score(pc_train, y_train) for clf in clfs]\n",
    "test_scores = [clf.score(pc_test, y_test) for clf in clfs]\n",
    "\n",
    "fig, ax = plt.subplots()\n",
    "ax.set_xlabel(\"base\")\n",
    "ax.set_ylabel(\"Acurácia\")\n",
    "ax.set_title(\"Acurácia x base do conjunto de dados de treino e teste\")\n",
    "ax.plot(ccp_alphas, train_scores, marker='o', label=\"treino\", drawstyle=\"steps-post\")\n",
    "ax.plot(ccp_alphas, test_scores, marker='o', label=\"teste\", drawstyle=\"steps-post\")\n",
    "ax.legend()\n",
    "plt.show()"
   ]
  },
  {
   "cell_type": "markdown",
   "metadata": {},
   "source": [
    "## Testando o número de componentes\n",
    "\n",
    "Com base no código acima, teste a árvore de classificação com pelo menos as seguintes possibilidades de quantidades de componentes: ```[2, 5, 10, 50]```. Avalie para cada uma delas:\n",
    "\n",
    "- Acurácia nas bases de treino e teste\n",
    "- Tempo de processamento\n"
   ]
  },
  {
   "cell_type": "code",
   "execution_count": 37,
   "metadata": {},
   "outputs": [
    {
     "name": "stdout",
     "output_type": "stream",
     "text": [
      "Wall time: 558 ms\n"
     ]
    },
    {
     "data": {
      "text/plain": [
       "(5514, 2)"
      ]
     },
     "execution_count": 37,
     "metadata": {},
     "output_type": "execute_result"
    }
   ],
   "source": [
    "%%time\n",
    "prcomp = PCA(n_components=2).fit(X_train)\n",
    "pc_treino  = prcomp.transform(X_train)\n",
    "pc_teste  = prcomp.transform(X_test)\n",
    "\n",
    "pc_treino.shape"
   ]
  },
  {
   "cell_type": "code",
   "execution_count": 38,
   "metadata": {},
   "outputs": [
    {
     "data": {
      "text/html": [
       "<div>\n",
       "<style scoped>\n",
       "    .dataframe tbody tr th:only-of-type {\n",
       "        vertical-align: middle;\n",
       "    }\n",
       "\n",
       "    .dataframe tbody tr th {\n",
       "        vertical-align: top;\n",
       "    }\n",
       "\n",
       "    .dataframe thead th {\n",
       "        text-align: right;\n",
       "    }\n",
       "</style>\n",
       "<table border=\"1\" class=\"dataframe\">\n",
       "  <thead>\n",
       "    <tr style=\"text-align: right;\">\n",
       "      <th></th>\n",
       "      <th>cp1</th>\n",
       "      <th>cp2</th>\n",
       "    </tr>\n",
       "  </thead>\n",
       "  <tbody>\n",
       "    <tr>\n",
       "      <th>0</th>\n",
       "      <td>5.528346</td>\n",
       "      <td>-0.421785</td>\n",
       "    </tr>\n",
       "    <tr>\n",
       "      <th>1</th>\n",
       "      <td>6.281671</td>\n",
       "      <td>-1.059075</td>\n",
       "    </tr>\n",
       "    <tr>\n",
       "      <th>2</th>\n",
       "      <td>-5.457771</td>\n",
       "      <td>0.845833</td>\n",
       "    </tr>\n",
       "    <tr>\n",
       "      <th>3</th>\n",
       "      <td>7.124429</td>\n",
       "      <td>0.280161</td>\n",
       "    </tr>\n",
       "    <tr>\n",
       "      <th>4</th>\n",
       "      <td>13.852336</td>\n",
       "      <td>5.775000</td>\n",
       "    </tr>\n",
       "  </tbody>\n",
       "</table>\n",
       "</div>"
      ],
      "text/plain": [
       "         cp1       cp2\n",
       "0   5.528346 -0.421785\n",
       "1   6.281671 -1.059075\n",
       "2  -5.457771  0.845833\n",
       "3   7.124429  0.280161\n",
       "4  13.852336  5.775000"
      ]
     },
     "execution_count": 38,
     "metadata": {},
     "output_type": "execute_result"
    }
   ],
   "source": [
    "n=2\n",
    "\n",
    "colunas = ['cp'+str(x+1) for x in list(range(n))]\n",
    "\n",
    "pc_train = pd.DataFrame(pc_treino[:,:n], columns = colunas)\n",
    "pc_test = pd.DataFrame(pc_teste[:,:n], columns = colunas)\n",
    "\n",
    "pc_train.head()"
   ]
  },
  {
   "cell_type": "code",
   "execution_count": 39,
   "metadata": {},
   "outputs": [
    {
     "name": "stdout",
     "output_type": "stream",
     "text": [
      "Wall time: 3.36 s\n"
     ]
    }
   ],
   "source": [
    "%%time\n",
    "clf = DecisionTreeClassifier(random_state=1234).fit(pc_train, y_train)\n",
    "\n",
    "caminho = DecisionTreeClassifier(random_state=2360873, min_samples_leaf=20).cost_complexity_pruning_path(pc_train, y_train)\n",
    "ccp_alphas, impurities = caminho.ccp_alphas, caminho.impurities\n",
    "\n",
    "ccp_alphas = np.unique(ccp_alphas[ccp_alphas>=0])\n",
    "\n",
    "clfs = []\n",
    "for ccp_alpha in ccp_alphas:\n",
    "    clf = DecisionTreeClassifier(random_state=2360873, ccp_alpha=ccp_alpha).fit(pc_train, y_train)\n",
    "    clfs.append(clf)"
   ]
  },
  {
   "cell_type": "code",
   "execution_count": 40,
   "metadata": {},
   "outputs": [
    {
     "data": {
      "image/png": "[encoded data removed]",
      "text/plain": [
       "<Figure size 640x480 with 1 Axes>"
      ]
     },
     "metadata": {},
     "output_type": "display_data"
    },
    {
     "name": "stdout",
     "output_type": "stream",
     "text": [
      "Wall time: 884 ms\n"
     ]
    }
   ],
   "source": [
    "%%time\n",
    "\n",
    "train_scores = [clf.score(pc_train, y_train) for clf in clfs]\n",
    "test_scores = [clf.score(pc_test, y_test) for clf in clfs]\n",
    "\n",
    "fig, ax = plt.subplots()\n",
    "ax.set_xlabel(\"base\")\n",
    "ax.set_ylabel(\"Acurácia\")\n",
    "ax.set_title(\"Acurácia x base do conjunto de dados de treino e teste\")\n",
    "ax.plot(ccp_alphas, train_scores, marker='o', label=\"treino\", drawstyle=\"steps-post\")\n",
    "ax.plot(ccp_alphas, test_scores, marker='o', label=\"teste\", drawstyle=\"steps-post\")\n",
    "ax.legend()\n",
    "plt.show()"
   ]
  },
  {
   "cell_type": "markdown",
   "metadata": {},
   "source": [
    "# 5 componentes"
   ]
  },
  {
   "cell_type": "code",
   "execution_count": 46,
   "metadata": {},
   "outputs": [
    {
     "name": "stdout",
     "output_type": "stream",
     "text": [
      "Wall time: 190 ms\n"
     ]
    },
    {
     "data": {
      "text/plain": [
       "(5514, 5)"
      ]
     },
     "execution_count": 46,
     "metadata": {},
     "output_type": "execute_result"
    }
   ],
   "source": [
    "%%time\n",
    "prcomp = PCA(n_components=5).fit(X_train)\n",
    "pc_treino  = prcomp.transform(X_train)\n",
    "pc_teste  = prcomp.transform(X_test)\n",
    "\n",
    "pc_treino.shape"
   ]
  },
  {
   "cell_type": "code",
   "execution_count": 42,
   "metadata": {},
   "outputs": [
    {
     "data": {
      "text/html": [
       "<div>\n",
       "<style scoped>\n",
       "    .dataframe tbody tr th:only-of-type {\n",
       "        vertical-align: middle;\n",
       "    }\n",
       "\n",
       "    .dataframe tbody tr th {\n",
       "        vertical-align: top;\n",
       "    }\n",
       "\n",
       "    .dataframe thead th {\n",
       "        text-align: right;\n",
       "    }\n",
       "</style>\n",
       "<table border=\"1\" class=\"dataframe\">\n",
       "  <thead>\n",
       "    <tr style=\"text-align: right;\">\n",
       "      <th></th>\n",
       "      <th>cp1</th>\n",
       "      <th>cp2</th>\n",
       "      <th>cp3</th>\n",
       "      <th>cp4</th>\n",
       "      <th>cp5</th>\n",
       "    </tr>\n",
       "  </thead>\n",
       "  <tbody>\n",
       "    <tr>\n",
       "      <th>0</th>\n",
       "      <td>5.528346</td>\n",
       "      <td>-0.421785</td>\n",
       "      <td>0.388243</td>\n",
       "      <td>0.298536</td>\n",
       "      <td>-0.557816</td>\n",
       "    </tr>\n",
       "    <tr>\n",
       "      <th>1</th>\n",
       "      <td>6.281671</td>\n",
       "      <td>-1.059075</td>\n",
       "      <td>0.108541</td>\n",
       "      <td>-0.723152</td>\n",
       "      <td>1.376762</td>\n",
       "    </tr>\n",
       "    <tr>\n",
       "      <th>2</th>\n",
       "      <td>-5.457771</td>\n",
       "      <td>0.845833</td>\n",
       "      <td>-1.792834</td>\n",
       "      <td>-0.041465</td>\n",
       "      <td>-0.076311</td>\n",
       "    </tr>\n",
       "    <tr>\n",
       "      <th>3</th>\n",
       "      <td>7.124429</td>\n",
       "      <td>0.280161</td>\n",
       "      <td>0.591990</td>\n",
       "      <td>-1.174232</td>\n",
       "      <td>1.498727</td>\n",
       "    </tr>\n",
       "    <tr>\n",
       "      <th>4</th>\n",
       "      <td>13.852336</td>\n",
       "      <td>5.775000</td>\n",
       "      <td>0.429917</td>\n",
       "      <td>2.013055</td>\n",
       "      <td>0.889456</td>\n",
       "    </tr>\n",
       "  </tbody>\n",
       "</table>\n",
       "</div>"
      ],
      "text/plain": [
       "         cp1       cp2       cp3       cp4       cp5\n",
       "0   5.528346 -0.421785  0.388243  0.298536 -0.557816\n",
       "1   6.281671 -1.059075  0.108541 -0.723152  1.376762\n",
       "2  -5.457771  0.845833 -1.792834 -0.041465 -0.076311\n",
       "3   7.124429  0.280161  0.591990 -1.174232  1.498727\n",
       "4  13.852336  5.775000  0.429917  2.013055  0.889456"
      ]
     },
     "execution_count": 42,
     "metadata": {},
     "output_type": "execute_result"
    }
   ],
   "source": [
    "n=5\n",
    "\n",
    "colunas = ['cp'+str(x+1) for x in list(range(n))]\n",
    "\n",
    "pc_train = pd.DataFrame(pc_treino[:,:n], columns = colunas)\n",
    "pc_test = pd.DataFrame(pc_teste[:,:n], columns = colunas)\n",
    "\n",
    "pc_train.head()"
   ]
  },
  {
   "cell_type": "code",
   "execution_count": 43,
   "metadata": {},
   "outputs": [
    {
     "name": "stdout",
     "output_type": "stream",
     "text": [
      "Wall time: 3.08 s\n"
     ]
    }
   ],
   "source": [
    "%%time\n",
    "clf = DecisionTreeClassifier(random_state=1234).fit(pc_train, y_train)\n",
    "\n",
    "caminho = DecisionTreeClassifier(random_state=2360873, min_samples_leaf=20).cost_complexity_pruning_path(pc_train, y_train)\n",
    "ccp_alphas, impurities = caminho.ccp_alphas, caminho.impurities\n",
    "\n",
    "ccp_alphas = np.unique(ccp_alphas[ccp_alphas>=0])\n",
    "\n",
    "clfs = []\n",
    "for ccp_alpha in ccp_alphas:\n",
    "    clf = DecisionTreeClassifier(random_state=2360873, ccp_alpha=ccp_alpha).fit(pc_train, y_train)\n",
    "    clfs.append(clf)"
   ]
  },
  {
   "cell_type": "code",
   "execution_count": 44,
   "metadata": {},
   "outputs": [
    {
     "data": {
      "image/png": "[encoded data removed]",
      "text/plain": [
       "<Figure size 640x480 with 1 Axes>"
      ]
     },
     "metadata": {},
     "output_type": "display_data"
    },
    {
     "name": "stdout",
     "output_type": "stream",
     "text": [
      "Wall time: 496 ms\n"
     ]
    }
   ],
   "source": [
    "%%time\n",
    "\n",
    "train_scores = [clf.score(pc_train, y_train) for clf in clfs]\n",
    "test_scores = [clf.score(pc_test, y_test) for clf in clfs]\n",
    "\n",
    "fig, ax = plt.subplots()\n",
    "ax.set_xlabel(\"base\")\n",
    "ax.set_ylabel(\"Acurácia\")\n",
    "ax.set_title(\"Acurácia x base do conjunto de dados de treino e teste\")\n",
    "ax.plot(ccp_alphas, train_scores, marker='o', label=\"treino\", drawstyle=\"steps-post\")\n",
    "ax.plot(ccp_alphas, test_scores, marker='o', label=\"teste\", drawstyle=\"steps-post\")\n",
    "ax.legend()\n",
    "plt.show()"
   ]
  },
  {
   "cell_type": "markdown",
   "metadata": {},
   "source": [
    "# 10 componentes"
   ]
  },
  {
   "cell_type": "code",
   "execution_count": 47,
   "metadata": {},
   "outputs": [
    {
     "name": "stdout",
     "output_type": "stream",
     "text": [
      "Wall time: 182 ms\n"
     ]
    },
    {
     "data": {
      "text/plain": [
       "(5514, 10)"
      ]
     },
     "execution_count": 47,
     "metadata": {},
     "output_type": "execute_result"
    }
   ],
   "source": [
    "%%time\n",
    "prcomp = PCA(n_components=10).fit(X_train)\n",
    "pc_treino  = prcomp.transform(X_train)\n",
    "pc_teste  = prcomp.transform(X_test)\n",
    "\n",
    "pc_treino.shape"
   ]
  },
  {
   "cell_type": "code",
   "execution_count": 48,
   "metadata": {},
   "outputs": [
    {
     "data": {
      "text/html": [
       "<div>\n",
       "<style scoped>\n",
       "    .dataframe tbody tr th:only-of-type {\n",
       "        vertical-align: middle;\n",
       "    }\n",
       "\n",
       "    .dataframe tbody tr th {\n",
       "        vertical-align: top;\n",
       "    }\n",
       "\n",
       "    .dataframe thead th {\n",
       "        text-align: right;\n",
       "    }\n",
       "</style>\n",
       "<table border=\"1\" class=\"dataframe\">\n",
       "  <thead>\n",
       "    <tr style=\"text-align: right;\">\n",
       "      <th></th>\n",
       "      <th>cp1</th>\n",
       "      <th>cp2</th>\n",
       "      <th>cp3</th>\n",
       "      <th>cp4</th>\n",
       "      <th>cp5</th>\n",
       "      <th>cp6</th>\n",
       "      <th>cp7</th>\n",
       "      <th>cp8</th>\n",
       "      <th>cp9</th>\n",
       "      <th>cp10</th>\n",
       "    </tr>\n",
       "  </thead>\n",
       "  <tbody>\n",
       "    <tr>\n",
       "      <th>0</th>\n",
       "      <td>5.528346</td>\n",
       "      <td>-0.421785</td>\n",
       "      <td>0.388243</td>\n",
       "      <td>0.298540</td>\n",
       "      <td>-0.557818</td>\n",
       "      <td>-0.916550</td>\n",
       "      <td>0.141101</td>\n",
       "      <td>-1.223573</td>\n",
       "      <td>-1.092727</td>\n",
       "      <td>-0.307628</td>\n",
       "    </tr>\n",
       "    <tr>\n",
       "      <th>1</th>\n",
       "      <td>6.281671</td>\n",
       "      <td>-1.059075</td>\n",
       "      <td>0.108541</td>\n",
       "      <td>-0.723160</td>\n",
       "      <td>1.376767</td>\n",
       "      <td>-0.162341</td>\n",
       "      <td>-0.892521</td>\n",
       "      <td>0.403168</td>\n",
       "      <td>0.619678</td>\n",
       "      <td>1.107500</td>\n",
       "    </tr>\n",
       "    <tr>\n",
       "      <th>2</th>\n",
       "      <td>-5.457771</td>\n",
       "      <td>0.845833</td>\n",
       "      <td>-1.792834</td>\n",
       "      <td>-0.041464</td>\n",
       "      <td>-0.076309</td>\n",
       "      <td>-0.158596</td>\n",
       "      <td>-0.922834</td>\n",
       "      <td>0.052626</td>\n",
       "      <td>0.279032</td>\n",
       "      <td>-0.485213</td>\n",
       "    </tr>\n",
       "    <tr>\n",
       "      <th>3</th>\n",
       "      <td>7.124429</td>\n",
       "      <td>0.280161</td>\n",
       "      <td>0.591990</td>\n",
       "      <td>-1.174237</td>\n",
       "      <td>1.498738</td>\n",
       "      <td>-1.058740</td>\n",
       "      <td>1.048010</td>\n",
       "      <td>-0.773308</td>\n",
       "      <td>0.405008</td>\n",
       "      <td>-1.359114</td>\n",
       "    </tr>\n",
       "    <tr>\n",
       "      <th>4</th>\n",
       "      <td>13.852336</td>\n",
       "      <td>5.775000</td>\n",
       "      <td>0.429917</td>\n",
       "      <td>2.013054</td>\n",
       "      <td>0.889457</td>\n",
       "      <td>1.920052</td>\n",
       "      <td>-1.646062</td>\n",
       "      <td>2.335878</td>\n",
       "      <td>1.053605</td>\n",
       "      <td>0.572451</td>\n",
       "    </tr>\n",
       "  </tbody>\n",
       "</table>\n",
       "</div>"
      ],
      "text/plain": [
       "         cp1       cp2       cp3       cp4       cp5       cp6       cp7  \\\n",
       "0   5.528346 -0.421785  0.388243  0.298540 -0.557818 -0.916550  0.141101   \n",
       "1   6.281671 -1.059075  0.108541 -0.723160  1.376767 -0.162341 -0.892521   \n",
       "2  -5.457771  0.845833 -1.792834 -0.041464 -0.076309 -0.158596 -0.922834   \n",
       "3   7.124429  0.280161  0.591990 -1.174237  1.498738 -1.058740  1.048010   \n",
       "4  13.852336  5.775000  0.429917  2.013054  0.889457  1.920052 -1.646062   \n",
       "\n",
       "        cp8       cp9      cp10  \n",
       "0 -1.223573 -1.092727 -0.307628  \n",
       "1  0.403168  0.619678  1.107500  \n",
       "2  0.052626  0.279032 -0.485213  \n",
       "3 -0.773308  0.405008 -1.359114  \n",
       "4  2.335878  1.053605  0.572451  "
      ]
     },
     "execution_count": 48,
     "metadata": {},
     "output_type": "execute_result"
    }
   ],
   "source": [
    "n=10\n",
    "\n",
    "colunas = ['cp'+str(x+1) for x in list(range(n))]\n",
    "\n",
    "pc_train = pd.DataFrame(pc_treino[:,:n], columns = colunas)\n",
    "pc_test = pd.DataFrame(pc_teste[:,:n], columns = colunas)\n",
    "\n",
    "pc_train.head()"
   ]
  },
  {
   "cell_type": "code",
   "execution_count": 49,
   "metadata": {},
   "outputs": [
    {
     "name": "stdout",
     "output_type": "stream",
     "text": [
      "Wall time: 5.09 s\n"
     ]
    }
   ],
   "source": [
    "%%time\n",
    "clf = DecisionTreeClassifier(random_state=1234).fit(pc_train, y_train)\n",
    "\n",
    "caminho = DecisionTreeClassifier(random_state=2360873, min_samples_leaf=20).cost_complexity_pruning_path(pc_train, y_train)\n",
    "ccp_alphas, impurities = caminho.ccp_alphas, caminho.impurities\n",
    "\n",
    "ccp_alphas = np.unique(ccp_alphas[ccp_alphas>=0])\n",
    "\n",
    "clfs = []\n",
    "for ccp_alpha in ccp_alphas:\n",
    "    clf = DecisionTreeClassifier(random_state=2360873, ccp_alpha=ccp_alpha).fit(pc_train, y_train)\n",
    "    clfs.append(clf)"
   ]
  },
  {
   "cell_type": "code",
   "execution_count": 50,
   "metadata": {},
   "outputs": [
    {
     "data": {
      "image/png": "[encoded data removed]",
      "text/plain": [
       "<Figure size 640x480 with 1 Axes>"
      ]
     },
     "metadata": {},
     "output_type": "display_data"
    },
    {
     "name": "stdout",
     "output_type": "stream",
     "text": [
      "Wall time: 597 ms\n"
     ]
    }
   ],
   "source": [
    "%%time\n",
    "\n",
    "train_scores = [clf.score(pc_train, y_train) for clf in clfs]\n",
    "test_scores = [clf.score(pc_test, y_test) for clf in clfs]\n",
    "\n",
    "fig, ax = plt.subplots()\n",
    "ax.set_xlabel(\"base\")\n",
    "ax.set_ylabel(\"Acurácia\")\n",
    "ax.set_title(\"Acurácia x base do conjunto de dados de treino e teste\")\n",
    "ax.plot(ccp_alphas, train_scores, marker='o', label=\"treino\", drawstyle=\"steps-post\")\n",
    "ax.plot(ccp_alphas, test_scores, marker='o', label=\"teste\", drawstyle=\"steps-post\")\n",
    "ax.legend()\n",
    "plt.show()"
   ]
  },
  {
   "cell_type": "markdown",
   "metadata": {},
   "source": [
    "# 50 componentes"
   ]
  },
  {
   "cell_type": "code",
   "execution_count": 51,
   "metadata": {},
   "outputs": [
    {
     "name": "stdout",
     "output_type": "stream",
     "text": [
      "Wall time: 352 ms\n"
     ]
    },
    {
     "data": {
      "text/plain": [
       "(5514, 50)"
      ]
     },
     "execution_count": 51,
     "metadata": {},
     "output_type": "execute_result"
    }
   ],
   "source": [
    "%%time\n",
    "prcomp = PCA(n_components=50).fit(X_train)\n",
    "pc_treino  = prcomp.transform(X_train)\n",
    "pc_teste  = prcomp.transform(X_test)\n",
    "\n",
    "pc_treino.shape"
   ]
  },
  {
   "cell_type": "code",
   "execution_count": 52,
   "metadata": {},
   "outputs": [
    {
     "data": {
      "text/html": [
       "<div>\n",
       "<style scoped>\n",
       "    .dataframe tbody tr th:only-of-type {\n",
       "        vertical-align: middle;\n",
       "    }\n",
       "\n",
       "    .dataframe tbody tr th {\n",
       "        vertical-align: top;\n",
       "    }\n",
       "\n",
       "    .dataframe thead th {\n",
       "        text-align: right;\n",
       "    }\n",
       "</style>\n",
       "<table border=\"1\" class=\"dataframe\">\n",
       "  <thead>\n",
       "    <tr style=\"text-align: right;\">\n",
       "      <th></th>\n",
       "      <th>cp1</th>\n",
       "      <th>cp2</th>\n",
       "      <th>cp3</th>\n",
       "      <th>cp4</th>\n",
       "      <th>cp5</th>\n",
       "      <th>cp6</th>\n",
       "      <th>cp7</th>\n",
       "      <th>cp8</th>\n",
       "      <th>cp9</th>\n",
       "      <th>cp10</th>\n",
       "      <th>...</th>\n",
       "      <th>cp41</th>\n",
       "      <th>cp42</th>\n",
       "      <th>cp43</th>\n",
       "      <th>cp44</th>\n",
       "      <th>cp45</th>\n",
       "      <th>cp46</th>\n",
       "      <th>cp47</th>\n",
       "      <th>cp48</th>\n",
       "      <th>cp49</th>\n",
       "      <th>cp50</th>\n",
       "    </tr>\n",
       "  </thead>\n",
       "  <tbody>\n",
       "    <tr>\n",
       "      <th>0</th>\n",
       "      <td>5.528346</td>\n",
       "      <td>-0.421785</td>\n",
       "      <td>0.388243</td>\n",
       "      <td>0.298540</td>\n",
       "      <td>-0.557818</td>\n",
       "      <td>-0.916556</td>\n",
       "      <td>0.141087</td>\n",
       "      <td>-1.223310</td>\n",
       "      <td>-1.092812</td>\n",
       "      <td>-0.308147</td>\n",
       "      <td>...</td>\n",
       "      <td>-0.320602</td>\n",
       "      <td>-0.271887</td>\n",
       "      <td>-0.008361</td>\n",
       "      <td>0.200408</td>\n",
       "      <td>0.352393</td>\n",
       "      <td>-0.233408</td>\n",
       "      <td>-0.199294</td>\n",
       "      <td>0.035066</td>\n",
       "      <td>0.357036</td>\n",
       "      <td>0.152345</td>\n",
       "    </tr>\n",
       "    <tr>\n",
       "      <th>1</th>\n",
       "      <td>6.281671</td>\n",
       "      <td>-1.059075</td>\n",
       "      <td>0.108541</td>\n",
       "      <td>-0.723159</td>\n",
       "      <td>1.376769</td>\n",
       "      <td>-0.162366</td>\n",
       "      <td>-0.892503</td>\n",
       "      <td>0.403471</td>\n",
       "      <td>0.619419</td>\n",
       "      <td>1.107451</td>\n",
       "      <td>...</td>\n",
       "      <td>0.058127</td>\n",
       "      <td>0.300386</td>\n",
       "      <td>-0.228905</td>\n",
       "      <td>-0.256862</td>\n",
       "      <td>-0.475878</td>\n",
       "      <td>-0.665846</td>\n",
       "      <td>-0.167844</td>\n",
       "      <td>0.120871</td>\n",
       "      <td>-0.152243</td>\n",
       "      <td>-0.083137</td>\n",
       "    </tr>\n",
       "    <tr>\n",
       "      <th>2</th>\n",
       "      <td>-5.457771</td>\n",
       "      <td>0.845833</td>\n",
       "      <td>-1.792834</td>\n",
       "      <td>-0.041463</td>\n",
       "      <td>-0.076309</td>\n",
       "      <td>-0.158597</td>\n",
       "      <td>-0.922768</td>\n",
       "      <td>0.052137</td>\n",
       "      <td>0.279106</td>\n",
       "      <td>-0.481677</td>\n",
       "      <td>...</td>\n",
       "      <td>0.299701</td>\n",
       "      <td>0.235076</td>\n",
       "      <td>0.103275</td>\n",
       "      <td>0.161486</td>\n",
       "      <td>-0.058936</td>\n",
       "      <td>-0.357232</td>\n",
       "      <td>-0.514065</td>\n",
       "      <td>0.032119</td>\n",
       "      <td>0.146766</td>\n",
       "      <td>0.078475</td>\n",
       "    </tr>\n",
       "    <tr>\n",
       "      <th>3</th>\n",
       "      <td>7.124429</td>\n",
       "      <td>0.280161</td>\n",
       "      <td>0.591990</td>\n",
       "      <td>-1.174239</td>\n",
       "      <td>1.498734</td>\n",
       "      <td>-1.058735</td>\n",
       "      <td>1.047938</td>\n",
       "      <td>-0.772740</td>\n",
       "      <td>0.404945</td>\n",
       "      <td>-1.363694</td>\n",
       "      <td>...</td>\n",
       "      <td>-0.103643</td>\n",
       "      <td>0.355001</td>\n",
       "      <td>-0.580869</td>\n",
       "      <td>0.156861</td>\n",
       "      <td>-0.261899</td>\n",
       "      <td>0.215820</td>\n",
       "      <td>0.105238</td>\n",
       "      <td>-0.012700</td>\n",
       "      <td>0.432946</td>\n",
       "      <td>-0.143713</td>\n",
       "    </tr>\n",
       "    <tr>\n",
       "      <th>4</th>\n",
       "      <td>13.852336</td>\n",
       "      <td>5.775000</td>\n",
       "      <td>0.429917</td>\n",
       "      <td>2.013054</td>\n",
       "      <td>0.889459</td>\n",
       "      <td>1.920035</td>\n",
       "      <td>-1.646140</td>\n",
       "      <td>2.336357</td>\n",
       "      <td>1.053479</td>\n",
       "      <td>0.569903</td>\n",
       "      <td>...</td>\n",
       "      <td>0.690740</td>\n",
       "      <td>0.134396</td>\n",
       "      <td>-1.150370</td>\n",
       "      <td>0.643025</td>\n",
       "      <td>-0.298075</td>\n",
       "      <td>-0.790902</td>\n",
       "      <td>-0.836576</td>\n",
       "      <td>-0.162823</td>\n",
       "      <td>0.216100</td>\n",
       "      <td>0.265217</td>\n",
       "    </tr>\n",
       "  </tbody>\n",
       "</table>\n",
       "<p>5 rows × 50 columns</p>\n",
       "</div>"
      ],
      "text/plain": [
       "         cp1       cp2       cp3       cp4       cp5       cp6       cp7  \\\n",
       "0   5.528346 -0.421785  0.388243  0.298540 -0.557818 -0.916556  0.141087   \n",
       "1   6.281671 -1.059075  0.108541 -0.723159  1.376769 -0.162366 -0.892503   \n",
       "2  -5.457771  0.845833 -1.792834 -0.041463 -0.076309 -0.158597 -0.922768   \n",
       "3   7.124429  0.280161  0.591990 -1.174239  1.498734 -1.058735  1.047938   \n",
       "4  13.852336  5.775000  0.429917  2.013054  0.889459  1.920035 -1.646140   \n",
       "\n",
       "        cp8       cp9      cp10  ...      cp41      cp42      cp43      cp44  \\\n",
       "0 -1.223310 -1.092812 -0.308147  ... -0.320602 -0.271887 -0.008361  0.200408   \n",
       "1  0.403471  0.619419  1.107451  ...  0.058127  0.300386 -0.228905 -0.256862   \n",
       "2  0.052137  0.279106 -0.481677  ...  0.299701  0.235076  0.103275  0.161486   \n",
       "3 -0.772740  0.404945 -1.363694  ... -0.103643  0.355001 -0.580869  0.156861   \n",
       "4  2.336357  1.053479  0.569903  ...  0.690740  0.134396 -1.150370  0.643025   \n",
       "\n",
       "       cp45      cp46      cp47      cp48      cp49      cp50  \n",
       "0  0.352393 -0.233408 -0.199294  0.035066  0.357036  0.152345  \n",
       "1 -0.475878 -0.665846 -0.167844  0.120871 -0.152243 -0.083137  \n",
       "2 -0.058936 -0.357232 -0.514065  0.032119  0.146766  0.078475  \n",
       "3 -0.261899  0.215820  0.105238 -0.012700  0.432946 -0.143713  \n",
       "4 -0.298075 -0.790902 -0.836576 -0.162823  0.216100  0.265217  \n",
       "\n",
       "[5 rows x 50 columns]"
      ]
     },
     "execution_count": 52,
     "metadata": {},
     "output_type": "execute_result"
    }
   ],
   "source": [
    "n=50\n",
    "\n",
    "colunas = ['cp'+str(x+1) for x in list(range(n))]\n",
    "\n",
    "pc_train = pd.DataFrame(pc_treino[:,:n], columns = colunas)\n",
    "pc_test = pd.DataFrame(pc_teste[:,:n], columns = colunas)\n",
    "\n",
    "pc_train.head()"
   ]
  },
  {
   "cell_type": "code",
   "execution_count": 53,
   "metadata": {},
   "outputs": [
    {
     "name": "stdout",
     "output_type": "stream",
     "text": [
      "Wall time: 28.3 s\n"
     ]
    }
   ],
   "source": [
    "%%time\n",
    "clf = DecisionTreeClassifier(random_state=1234).fit(pc_train, y_train)\n",
    "\n",
    "caminho = DecisionTreeClassifier(random_state=2360873, min_samples_leaf=20).cost_complexity_pruning_path(pc_train, y_train)\n",
    "ccp_alphas, impurities = caminho.ccp_alphas, caminho.impurities\n",
    "\n",
    "ccp_alphas = np.unique(ccp_alphas[ccp_alphas>=0])\n",
    "\n",
    "clfs = []\n",
    "for ccp_alpha in ccp_alphas:\n",
    "    clf = DecisionTreeClassifier(random_state=2360873, ccp_alpha=ccp_alpha).fit(pc_train, y_train)\n",
    "    clfs.append(clf)"
   ]
  },
  {
   "cell_type": "code",
   "execution_count": 54,
   "metadata": {},
   "outputs": [
    {
     "data": {
      "image/png": "[encoded data removed]",
      "text/plain": [
       "<Figure size 640x480 with 1 Axes>"
      ]
     },
     "metadata": {},
     "output_type": "display_data"
    },
    {
     "name": "stdout",
     "output_type": "stream",
     "text": [
      "Wall time: 655 ms\n"
     ]
    }
   ],
   "source": [
    "%%time\n",
    "\n",
    "train_scores = [clf.score(pc_train, y_train) for clf in clfs]\n",
    "test_scores = [clf.score(pc_test, y_test) for clf in clfs]\n",
    "\n",
    "fig, ax = plt.subplots()\n",
    "ax.set_xlabel(\"base\")\n",
    "ax.set_ylabel(\"Acurácia\")\n",
    "ax.set_title(\"Acurácia x base do conjunto de dados de treino e teste\")\n",
    "ax.plot(ccp_alphas, train_scores, marker='o', label=\"treino\", drawstyle=\"steps-post\")\n",
    "ax.plot(ccp_alphas, test_scores, marker='o', label=\"teste\", drawstyle=\"steps-post\")\n",
    "ax.legend()\n",
    "plt.show()"
   ]
  },
  {
   "cell_type": "markdown",
   "metadata": {},
   "source": [
    "## Conclua\n",
    "\n",
    "- O que aconteceu com a acurácia?\n",
    "- O que aconteceu com o tempo de processamento?"
   ]
  },
  {
   "cell_type": "markdown",
   "metadata": {},
   "source": [
    "A acuracia dos modelos de 5,10 e 50 componentes ficaram bastante parecidos, senão iguais. È a acuracia do modelo com 1 e 2 componentes ficaram similares, com a base de teste em destaque."
   ]
  },
  {
   "cell_type": "markdown",
   "metadata": {},
   "source": [
    "O tempo de processamento continuou pequeno."
   ]
  }
 ],
 "metadata": {
  "kernelspec": {
   "display_name": "Python 3 (ipykernel)",
   "language": "python",
   "name": "python3"
  },
  "language_info": {
   "codemirror_mode": {
    "name": "ipython",
    "version": 3
   },
   "file_extension": ".py",
   "mimetype": "text/x-python",
   "name": "python",
   "nbconvert_exporter": "python",
   "pygments_lexer": "ipython3",
   "version": "3.9.13"
  },
  "toc": {
   "base_numbering": 1,
   "nav_menu": {},
   "number_sections": true,
   "sideBar": true,
   "skip_h1_title": true,
   "title_cell": "Índice",
   "title_sidebar": "Conteúdo",
   "toc_cell": false,
   "toc_position": {},
   "toc_section_display": true,
   "toc_window_display": false
  },
  "varInspector": {
   "cols": {
    "lenName": 16,
    "lenType": 16,
    "lenVar": 40
   },
   "kernels_config": {
    "python": {
     "delete_cmd_postfix": "",
     "delete_cmd_prefix": "del ",
     "library": "var_list.py",
     "varRefreshCmd": "print(var_dic_list())"
    },
    "r": {
     "delete_cmd_postfix": ") ",
     "delete_cmd_prefix": "rm(",
     "library": "var_list.r",
     "varRefreshCmd": "cat(var_dic_list()) "
    }
   },
   "types_to_exclude": [
    "module",
    "function",
    "builtin_function_or_method",
    "instance",
    "_Feature"
   ],
   "window_display": false
  }
 },
 "nbformat": 4,
 "nbformat_minor": 4
}
