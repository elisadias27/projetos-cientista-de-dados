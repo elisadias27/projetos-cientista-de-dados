{
 "cells": [
  {
   "cell_type": "markdown",
   "id": "fe98382f",
   "metadata": {},
   "source": [
    "O bagging funciona da seguinte maneira, primeiro começamos com a amostragem por repetição em que usamos um conjunto de dados e o bagging gera novos conjuntos de dados a partir desse dataset original em uma espécie de sorteio. É esse novo conjunto de dados e diferente do original. Depois de criados, os novos conjuntos de dados geram modelos, esses modelos podem ser arvores de regressão ou regressão linear. E por último, esses modelos geram respostas e queremos uma resposta final de todos os modelos e pra isso utilizamos o aggregating. O aggregating e uma agregação em que se baseia no voto majoritário, como se fosse uma democracia. Por exemplo, se temos 5 modelos em que 3 deles geraram respostas de número dois e os outros 2 geraram respostas de numero um a resposta final será 2."
   ]
  }
 ],
 "metadata": {
  "kernelspec": {
   "display_name": "Python 3 (ipykernel)",
   "language": "python",
   "name": "python3"
  },
  "language_info": {
   "codemirror_mode": {
    "name": "ipython",
    "version": 3
   },
   "file_extension": ".py",
   "mimetype": "text/x-python",
   "name": "python",
   "nbconvert_exporter": "python",
   "pygments_lexer": "ipython3",
   "version": "3.9.13"
  }
 },
 "nbformat": 4,
 "nbformat_minor": 5
}
