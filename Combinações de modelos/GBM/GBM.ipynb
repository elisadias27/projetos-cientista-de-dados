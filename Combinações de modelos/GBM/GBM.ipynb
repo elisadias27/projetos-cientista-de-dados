{
 "cells": [
  {
   "cell_type": "markdown",
   "id": "fe98382f",
   "metadata": {},
   "source": [
    "1.Cite 5 diferenças entre o AdaBoost e o GBM. \n",
    "\n",
    "O AdaBoost é uma floresta de stumps é o GBM é uma floresta de árvores. \n",
    "\n",
    "No AdaBoost, o primeiro passo é um stump e no GBM é a media do Y. \n",
    "\n",
    "No AdaBoost cada resposta tem um peso diferente e no GBM todas as respostas das árvores possui um multiplicador em comum chamado learning_rate(eta). \n",
    "\n",
    "Agora também nos preocupamos em calcular a media Y, o predito e no final temos o resíduo. \n",
    "\n",
    "2. Cite 4 Hyperparametros importantes no GBM. \n",
    "\n",
    "n_estimators, learning_rate, max_depth, min_leaf_nodes \n",
    "\n",
    "3. Acessando o artigo do Jerome Friedman (Stochastic) e pensando no nome dado ao Stochastic GBM, qual é a maior diferença entre os dois algoritmos? \n",
    "\n",
    "O algoritmo Stochastic GBM é mais rápido do que o processo convencional de aumento de gradiente. O algoritmo é mais rápido porque as árvores de regressão agora exigem o ajuste de conjunto de dados menores em cada iteração, em oposição aos conjuntos de dados maiores no processo convencional. "
   ]
  }
 ],
 "metadata": {
  "kernelspec": {
   "display_name": "Python 3 (ipykernel)",
   "language": "python",
   "name": "python3"
  },
  "language_info": {
   "codemirror_mode": {
    "name": "ipython",
    "version": 3
   },
   "file_extension": ".py",
   "mimetype": "text/x-python",
   "name": "python",
   "nbconvert_exporter": "python",
   "pygments_lexer": "ipython3",
   "version": "3.9.13"
  }
 },
 "nbformat": 4,
 "nbformat_minor": 5
}
