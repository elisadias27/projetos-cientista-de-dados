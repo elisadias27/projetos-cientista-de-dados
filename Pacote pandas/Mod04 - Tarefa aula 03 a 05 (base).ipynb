{
 "cells": [
  {
   "cell_type": "markdown",
   "metadata": {},
   "source": [
    "## Exercício 1: Vestibular\n",
    "\n",
    "Considere que a os dados gerados na célula abaixo contêm o número de acertos de 100 alunos em um vestibular para um curso de exatas, divididas pelos respectivos assuntos. Considere que cada assunto possui um número de questões conforme a tabela abaixo:\n",
    "\n",
    "| assunto | número de questões |\n",
    "|:---:|:---:|\n",
    "| Matemática | 24 |\n",
    "| Português | 18 |\n",
    "| Geografia | 8 |\n",
    "| Inglês | 8 |\n",
    "| História | 8 |\n",
    "| Física | 12 |\n",
    "| Química | 12 |\n",
    "\n",
    "Usando os comandos de operações com DataFrames que você aprendeu na Aula 03, calcule:\n",
    "\n",
    "1. (operações com escalar) Calcule o percentual de acerto dos alunos por assunto.  \n",
    "2. (operações entre *DataFrames) Calcule o total de acertos de cada aluno.  \n",
    "3. Calcule o porcentual geral de cada aluno.  \n",
    "4. Suponha que a nota de corte para a segunda fase seja 45. Quantos alunos tiveram nota maior que 45?  "
   ]
  },
  {
   "cell_type": "code",
   "execution_count": 1,
   "metadata": {},
   "outputs": [],
   "source": [
    "import pandas as pd\n",
    "import numpy as np\n",
    "\n",
    "np.random.seed(42)\n",
    "df_mat = pd.DataFrame(np.random.randint(24, size=(100, 1)), columns=['Qt_acertos'])\n",
    "\n",
    "df_por = pd.DataFrame(np.random.randint(18, size=(100, 1)), columns=['Qt_acertos'])\n",
    "\n",
    "df_geo = pd.DataFrame(np.random.randint(8, size=(100, 1)), columns=['Qt_acertos'])\n",
    "\n",
    "df_ing = pd.DataFrame(np.random.randint(8, size=(100, 1)), columns=['Qt_acertos'])\n",
    "\n",
    "df_his = pd.DataFrame(np.random.randint(8, size=(100, 1)), columns=['Qt_acertos'])\n",
    "\n",
    "df_fis = pd.DataFrame(np.random.randint(12, size=(100, 1)), columns=['Qt_acertos'])\n",
    "\n",
    "df_qui = pd.DataFrame(np.random.randint(12, size=(100, 1)), columns=['Qt_acertos'])"
   ]
  },
  {
   "cell_type": "code",
   "execution_count": 2,
   "metadata": {},
   "outputs": [],
   "source": [
    "pc_mat = df_mat / 24\n",
    "pc_por = df_por / 18\n",
    "pc_geo = df_geo /  8\n",
    "pc_ing = df_ing /  8\n",
    "pc_his = df_his /  8\n",
    "pc_fis = df_fis /  8\n",
    "pc_qui = df_qui /  8"
   ]
  },
  {
   "cell_type": "code",
   "execution_count": 3,
   "metadata": {},
   "outputs": [
    {
     "data": {
      "text/html": [
       "<div>\n",
       "<style scoped>\n",
       "    .dataframe tbody tr th:only-of-type {\n",
       "        vertical-align: middle;\n",
       "    }\n",
       "\n",
       "    .dataframe tbody tr th {\n",
       "        vertical-align: top;\n",
       "    }\n",
       "\n",
       "    .dataframe thead th {\n",
       "        text-align: right;\n",
       "    }\n",
       "</style>\n",
       "<table border=\"1\" class=\"dataframe\">\n",
       "  <thead>\n",
       "    <tr style=\"text-align: right;\">\n",
       "      <th></th>\n",
       "      <th>Qt_acertos</th>\n",
       "    </tr>\n",
       "  </thead>\n",
       "  <tbody>\n",
       "    <tr>\n",
       "      <th>0</th>\n",
       "      <td>35</td>\n",
       "    </tr>\n",
       "    <tr>\n",
       "      <th>1</th>\n",
       "      <td>48</td>\n",
       "    </tr>\n",
       "    <tr>\n",
       "      <th>2</th>\n",
       "      <td>50</td>\n",
       "    </tr>\n",
       "    <tr>\n",
       "      <th>3</th>\n",
       "      <td>32</td>\n",
       "    </tr>\n",
       "    <tr>\n",
       "      <th>4</th>\n",
       "      <td>30</td>\n",
       "    </tr>\n",
       "    <tr>\n",
       "      <th>...</th>\n",
       "      <td>...</td>\n",
       "    </tr>\n",
       "    <tr>\n",
       "      <th>95</th>\n",
       "      <td>34</td>\n",
       "    </tr>\n",
       "    <tr>\n",
       "      <th>96</th>\n",
       "      <td>27</td>\n",
       "    </tr>\n",
       "    <tr>\n",
       "      <th>97</th>\n",
       "      <td>40</td>\n",
       "    </tr>\n",
       "    <tr>\n",
       "      <th>98</th>\n",
       "      <td>40</td>\n",
       "    </tr>\n",
       "    <tr>\n",
       "      <th>99</th>\n",
       "      <td>42</td>\n",
       "    </tr>\n",
       "  </tbody>\n",
       "</table>\n",
       "<p>100 rows × 1 columns</p>\n",
       "</div>"
      ],
      "text/plain": [
       "    Qt_acertos\n",
       "0           35\n",
       "1           48\n",
       "2           50\n",
       "3           32\n",
       "4           30\n",
       "..         ...\n",
       "95          34\n",
       "96          27\n",
       "97          40\n",
       "98          40\n",
       "99          42\n",
       "\n",
       "[100 rows x 1 columns]"
      ]
     },
     "execution_count": 3,
     "metadata": {},
     "output_type": "execute_result"
    }
   ],
   "source": [
    "total = df_mat + df_por + df_geo + df_ing + df_his + df_fis + df_qui\n",
    "total"
   ]
  },
  {
   "cell_type": "code",
   "execution_count": 4,
   "metadata": {},
   "outputs": [
    {
     "data": {
      "text/html": [
       "<div>\n",
       "<style scoped>\n",
       "    .dataframe tbody tr th:only-of-type {\n",
       "        vertical-align: middle;\n",
       "    }\n",
       "\n",
       "    .dataframe tbody tr th {\n",
       "        vertical-align: top;\n",
       "    }\n",
       "\n",
       "    .dataframe thead th {\n",
       "        text-align: right;\n",
       "    }\n",
       "</style>\n",
       "<table border=\"1\" class=\"dataframe\">\n",
       "  <thead>\n",
       "    <tr style=\"text-align: right;\">\n",
       "      <th></th>\n",
       "      <th>Qt_acertos</th>\n",
       "    </tr>\n",
       "  </thead>\n",
       "  <tbody>\n",
       "    <tr>\n",
       "      <th>0</th>\n",
       "      <td>0.388889</td>\n",
       "    </tr>\n",
       "    <tr>\n",
       "      <th>1</th>\n",
       "      <td>0.533333</td>\n",
       "    </tr>\n",
       "    <tr>\n",
       "      <th>2</th>\n",
       "      <td>0.555556</td>\n",
       "    </tr>\n",
       "    <tr>\n",
       "      <th>3</th>\n",
       "      <td>0.355556</td>\n",
       "    </tr>\n",
       "    <tr>\n",
       "      <th>4</th>\n",
       "      <td>0.333333</td>\n",
       "    </tr>\n",
       "    <tr>\n",
       "      <th>...</th>\n",
       "      <td>...</td>\n",
       "    </tr>\n",
       "    <tr>\n",
       "      <th>95</th>\n",
       "      <td>0.377778</td>\n",
       "    </tr>\n",
       "    <tr>\n",
       "      <th>96</th>\n",
       "      <td>0.300000</td>\n",
       "    </tr>\n",
       "    <tr>\n",
       "      <th>97</th>\n",
       "      <td>0.444444</td>\n",
       "    </tr>\n",
       "    <tr>\n",
       "      <th>98</th>\n",
       "      <td>0.444444</td>\n",
       "    </tr>\n",
       "    <tr>\n",
       "      <th>99</th>\n",
       "      <td>0.466667</td>\n",
       "    </tr>\n",
       "  </tbody>\n",
       "</table>\n",
       "<p>100 rows × 1 columns</p>\n",
       "</div>"
      ],
      "text/plain": [
       "    Qt_acertos\n",
       "0     0.388889\n",
       "1     0.533333\n",
       "2     0.555556\n",
       "3     0.355556\n",
       "4     0.333333\n",
       "..         ...\n",
       "95    0.377778\n",
       "96    0.300000\n",
       "97    0.444444\n",
       "98    0.444444\n",
       "99    0.466667\n",
       "\n",
       "[100 rows x 1 columns]"
      ]
     },
     "execution_count": 4,
     "metadata": {},
     "output_type": "execute_result"
    }
   ],
   "source": [
    "total/90"
   ]
  },
  {
   "cell_type": "code",
   "execution_count": 5,
   "metadata": {},
   "outputs": [
    {
     "data": {
      "text/plain": [
       "Qt_acertos    31\n",
       "dtype: int64"
      ]
     },
     "execution_count": 5,
     "metadata": {},
     "output_type": "execute_result"
    }
   ],
   "source": [
    "total_gt_45 = total[total['Qt_acertos'] > 45]\n",
    "total_gt_45.count()"
   ]
  },
  {
   "cell_type": "markdown",
   "metadata": {},
   "source": [
    "## 2) Vestibular II\n",
    "\n",
    "Ainda sobre o mesmo banco de dados:\n",
    "\n",
    "1. Neste vestibular, quem 'zera' em matemática, física ou química está desqualificado. Monte um novo *DataFrame* com os alunos desqualificados por este critério.\n",
    "2. Quantos são esses alunos?\n",
    "3. Qual a média desses alunos em história e geografia?\n",
    "4. Monte um *DataFrame* com os alunos que passaram para a segunda fase. Repare que estes alunos não podem ter sido desqualificados."
   ]
  },
  {
   "cell_type": "code",
   "execution_count": 6,
   "metadata": {},
   "outputs": [
    {
     "data": {
      "text/html": [
       "<div>\n",
       "<style scoped>\n",
       "    .dataframe tbody tr th:only-of-type {\n",
       "        vertical-align: middle;\n",
       "    }\n",
       "\n",
       "    .dataframe tbody tr th {\n",
       "        vertical-align: top;\n",
       "    }\n",
       "\n",
       "    .dataframe thead th {\n",
       "        text-align: right;\n",
       "    }\n",
       "</style>\n",
       "<table border=\"1\" class=\"dataframe\">\n",
       "  <thead>\n",
       "    <tr style=\"text-align: right;\">\n",
       "      <th></th>\n",
       "      <th>Qt_acertos</th>\n",
       "    </tr>\n",
       "  </thead>\n",
       "  <tbody>\n",
       "    <tr>\n",
       "      <th>3</th>\n",
       "      <td>32</td>\n",
       "    </tr>\n",
       "    <tr>\n",
       "      <th>6</th>\n",
       "      <td>29</td>\n",
       "    </tr>\n",
       "    <tr>\n",
       "      <th>10</th>\n",
       "      <td>31</td>\n",
       "    </tr>\n",
       "    <tr>\n",
       "      <th>12</th>\n",
       "      <td>42</td>\n",
       "    </tr>\n",
       "    <tr>\n",
       "      <th>14</th>\n",
       "      <td>31</td>\n",
       "    </tr>\n",
       "    <tr>\n",
       "      <th>20</th>\n",
       "      <td>53</td>\n",
       "    </tr>\n",
       "    <tr>\n",
       "      <th>25</th>\n",
       "      <td>27</td>\n",
       "    </tr>\n",
       "    <tr>\n",
       "      <th>26</th>\n",
       "      <td>40</td>\n",
       "    </tr>\n",
       "    <tr>\n",
       "      <th>27</th>\n",
       "      <td>50</td>\n",
       "    </tr>\n",
       "    <tr>\n",
       "      <th>33</th>\n",
       "      <td>39</td>\n",
       "    </tr>\n",
       "    <tr>\n",
       "      <th>35</th>\n",
       "      <td>48</td>\n",
       "    </tr>\n",
       "    <tr>\n",
       "      <th>49</th>\n",
       "      <td>19</td>\n",
       "    </tr>\n",
       "    <tr>\n",
       "      <th>56</th>\n",
       "      <td>39</td>\n",
       "    </tr>\n",
       "    <tr>\n",
       "      <th>65</th>\n",
       "      <td>24</td>\n",
       "    </tr>\n",
       "    <tr>\n",
       "      <th>66</th>\n",
       "      <td>31</td>\n",
       "    </tr>\n",
       "    <tr>\n",
       "      <th>72</th>\n",
       "      <td>50</td>\n",
       "    </tr>\n",
       "    <tr>\n",
       "      <th>73</th>\n",
       "      <td>37</td>\n",
       "    </tr>\n",
       "    <tr>\n",
       "      <th>74</th>\n",
       "      <td>39</td>\n",
       "    </tr>\n",
       "    <tr>\n",
       "      <th>84</th>\n",
       "      <td>26</td>\n",
       "    </tr>\n",
       "    <tr>\n",
       "      <th>89</th>\n",
       "      <td>63</td>\n",
       "    </tr>\n",
       "    <tr>\n",
       "      <th>92</th>\n",
       "      <td>40</td>\n",
       "    </tr>\n",
       "    <tr>\n",
       "      <th>94</th>\n",
       "      <td>25</td>\n",
       "    </tr>\n",
       "    <tr>\n",
       "      <th>98</th>\n",
       "      <td>40</td>\n",
       "    </tr>\n",
       "  </tbody>\n",
       "</table>\n",
       "</div>"
      ],
      "text/plain": [
       "    Qt_acertos\n",
       "3           32\n",
       "6           29\n",
       "10          31\n",
       "12          42\n",
       "14          31\n",
       "20          53\n",
       "25          27\n",
       "26          40\n",
       "27          50\n",
       "33          39\n",
       "35          48\n",
       "49          19\n",
       "56          39\n",
       "65          24\n",
       "66          31\n",
       "72          50\n",
       "73          37\n",
       "74          39\n",
       "84          26\n",
       "89          63\n",
       "92          40\n",
       "94          25\n",
       "98          40"
      ]
     },
     "execution_count": 6,
     "metadata": {},
     "output_type": "execute_result"
    }
   ],
   "source": [
    "\n",
    "df_eliminados = total[(df_mat['Qt_acertos'] == 0) | \n",
    "                      (df_fis['Qt_acertos'] == 0) | \n",
    "                      (df_qui['Qt_acertos'] == 0)]\n",
    "\n",
    "df_eliminados"
   ]
  },
  {
   "cell_type": "markdown",
   "metadata": {},
   "source": [
    "## 3) Vacinações no Acre\n",
    "Vamos trabalhar agora com a base de vacinações no DF. Para facilitar a sua vida, copiamos o link do arquivo na célula abaixo.\n",
    "\n",
    "1. Quantas vacinas estão registradas nessa base?  \n",
    "2. Quantos pacientes foram vacinados? (considere um paciente para cada valor único de ```paciente_id```)  \n",
    "3. Quantos pacientes únicos tomaram a primeira dose? OBS: Há um caractere especial neste campo. Receba os valores do campo com o método ```.unique()```.   \n",
    "4. Quantos pacientes com menos de 18 anos foram vacinados?  \n",
    "5. Quantos estabelecimentos aplicaram vacina no Acre?\n",
    "\n",
    "\n",
    "**OBS:** O portal do DATASUS pode apresentar instabilidades, retornando um erro na segunda célula abaixo. Por este motivo está disponível uma base estática, que se for baixada para o seu *working directory* pode ser lida com este comando: ```df = pd.read_csv('registros de vacinacao covid ACRE.csv', sep=';')```.\n",
    "\n",
    "**OBS2:** Para saber qual é o seu working directory, rode no jupyter: ```!pwd```."
   ]
  },
  {
   "cell_type": "code",
   "execution_count": null,
   "metadata": {},
   "outputs": [],
   "source": [
    "arquivo = 'http://localhost:8888/edit/Modulo%204/part-00000-ee6472d6-6295-4768-bdf6-41e5bb83fdd4.c000.csv'"
   ]
  },
  {
   "cell_type": "code",
   "execution_count": null,
   "metadata": {},
   "outputs": [],
   "source": [
    "df = pd.read_csv(arquivo, sep=';')"
   ]
  },
  {
   "cell_type": "code",
   "execution_count": 28,
   "metadata": {
    "scrolled": false
   },
   "outputs": [
    {
     "data": {
      "text/html": [
       "<div>\n",
       "<style scoped>\n",
       "    .dataframe tbody tr th:only-of-type {\n",
       "        vertical-align: middle;\n",
       "    }\n",
       "\n",
       "    .dataframe tbody tr th {\n",
       "        vertical-align: top;\n",
       "    }\n",
       "\n",
       "    .dataframe thead th {\n",
       "        text-align: right;\n",
       "    }\n",
       "</style>\n",
       "<table border=\"1\" class=\"dataframe\">\n",
       "  <thead>\n",
       "    <tr style=\"text-align: right;\">\n",
       "      <th></th>\n",
       "      <th>document_id</th>\n",
       "      <th>paciente_id</th>\n",
       "      <th>paciente_idade</th>\n",
       "      <th>paciente_dataNascimento</th>\n",
       "      <th>paciente_enumSexoBiologico</th>\n",
       "      <th>paciente_racaCor_codigo</th>\n",
       "      <th>paciente_racaCor_valor</th>\n",
       "      <th>paciente_endereco_coIbgeMunicipio</th>\n",
       "      <th>paciente_endereco_coPais</th>\n",
       "      <th>paciente_endereco_nmMunicipio</th>\n",
       "      <th>...</th>\n",
       "      <th>vacina_categoria_codigo</th>\n",
       "      <th>vacina_categoria_nome</th>\n",
       "      <th>vacina_lote</th>\n",
       "      <th>vacina_fabricante_nome</th>\n",
       "      <th>vacina_fabricante_referencia</th>\n",
       "      <th>vacina_dataAplicacao</th>\n",
       "      <th>vacina_descricao_dose</th>\n",
       "      <th>vacina_codigo</th>\n",
       "      <th>vacina_nome</th>\n",
       "      <th>sistema_origem</th>\n",
       "    </tr>\n",
       "  </thead>\n",
       "  <tbody>\n",
       "    <tr>\n",
       "      <th>0</th>\n",
       "      <td>80ef70f2-8f02-408e-a97f-bcb71d2c3758-i0b0</td>\n",
       "      <td>6d94def898c4e4f5b075f00f70d5ed9e6df063ab370405...</td>\n",
       "      <td>33.0</td>\n",
       "      <td>1988-06-08</td>\n",
       "      <td>M</td>\n",
       "      <td>4.0</td>\n",
       "      <td>AMARELA</td>\n",
       "      <td>120040.0</td>\n",
       "      <td>10.0</td>\n",
       "      <td>RIO BRANCO</td>\n",
       "      <td>...</td>\n",
       "      <td>2.0</td>\n",
       "      <td>Faixa Etária</td>\n",
       "      <td>215VCD011VA</td>\n",
       "      <td>ASTRAZENECA/FIOCRUZ</td>\n",
       "      <td>Organization/33781055000135</td>\n",
       "      <td>2021-07-05</td>\n",
       "      <td>1ª Dose</td>\n",
       "      <td>85</td>\n",
       "      <td>COVID-19 ASTRAZENECA/FIOCRUZ - COVISHIELD</td>\n",
       "      <td>Novo PNI</td>\n",
       "    </tr>\n",
       "    <tr>\n",
       "      <th>1</th>\n",
       "      <td>281d4917-7763-4a0f-b552-9a503d648d90-i0b0</td>\n",
       "      <td>d24ae6913028e98dbe0fe12d399556c844afc7cc086964...</td>\n",
       "      <td>17.0</td>\n",
       "      <td>2004-01-17</td>\n",
       "      <td>F</td>\n",
       "      <td>99.0</td>\n",
       "      <td>SEM INFORMACAO</td>\n",
       "      <td>120010.0</td>\n",
       "      <td>10.0</td>\n",
       "      <td>BRASILEIA</td>\n",
       "      <td>...</td>\n",
       "      <td>2.0</td>\n",
       "      <td>Faixa Etária</td>\n",
       "      <td>FA9096</td>\n",
       "      <td>PFIZER</td>\n",
       "      <td>Organization/00394544000851</td>\n",
       "      <td>2021-08-11</td>\n",
       "      <td>1ª Dose</td>\n",
       "      <td>87</td>\n",
       "      <td>COVID-19 PFIZER - COMIRNATY</td>\n",
       "      <td>Novo PNI</td>\n",
       "    </tr>\n",
       "    <tr>\n",
       "      <th>2</th>\n",
       "      <td>644eace6-9042-4b18-8c2b-4ce04a6bfc62-i0b0</td>\n",
       "      <td>46bfe84764c0ec2c8ac941abccabc4683641301c4d8b44...</td>\n",
       "      <td>19.0</td>\n",
       "      <td>2002-11-24</td>\n",
       "      <td>F</td>\n",
       "      <td>1.0</td>\n",
       "      <td>BRANCA</td>\n",
       "      <td>120040.0</td>\n",
       "      <td>10.0</td>\n",
       "      <td>RIO BRANCO</td>\n",
       "      <td>...</td>\n",
       "      <td>2.0</td>\n",
       "      <td>Faixa Etária</td>\n",
       "      <td>21PVCD368Z</td>\n",
       "      <td>ASTRAZENECA/FIOCRUZ</td>\n",
       "      <td>149</td>\n",
       "      <td>2022-07-28</td>\n",
       "      <td>Reforço</td>\n",
       "      <td>85</td>\n",
       "      <td>COVID-19 ASTRAZENECA/FIOCRUZ - COVISHIELD</td>\n",
       "      <td>Novo PNI</td>\n",
       "    </tr>\n",
       "    <tr>\n",
       "      <th>3</th>\n",
       "      <td>281fff9e-17d6-4d7b-bc19-6c272ebcf57b-i0b0</td>\n",
       "      <td>f1e2622f593527e8600af3eab451b979099941c5f89047...</td>\n",
       "      <td>31.0</td>\n",
       "      <td>1990-06-06</td>\n",
       "      <td>M</td>\n",
       "      <td>4.0</td>\n",
       "      <td>AMARELA</td>\n",
       "      <td>130165.0</td>\n",
       "      <td>10.0</td>\n",
       "      <td>GUAJARA</td>\n",
       "      <td>...</td>\n",
       "      <td>2.0</td>\n",
       "      <td>Faixa Etária</td>\n",
       "      <td>210342</td>\n",
       "      <td>SINOVAC/BUTANTAN</td>\n",
       "      <td>Organization/152</td>\n",
       "      <td>2021-12-01</td>\n",
       "      <td>2ª Dose</td>\n",
       "      <td>86</td>\n",
       "      <td>COVID-19 SINOVAC/BUTANTAN - CORONAVAC</td>\n",
       "      <td>Novo PNI</td>\n",
       "    </tr>\n",
       "    <tr>\n",
       "      <th>4</th>\n",
       "      <td>bad06ecd-96c1-492e-abc2-6619b2920424-i0b0</td>\n",
       "      <td>4cd21b6d45627a075328eeebb278d9d519e089f9a15285...</td>\n",
       "      <td>22.0</td>\n",
       "      <td>1999-05-24</td>\n",
       "      <td>M</td>\n",
       "      <td>3.0</td>\n",
       "      <td>PARDA</td>\n",
       "      <td>120033.0</td>\n",
       "      <td>10.0</td>\n",
       "      <td>MANCIO LIMA</td>\n",
       "      <td>...</td>\n",
       "      <td>2.0</td>\n",
       "      <td>Faixa Etária</td>\n",
       "      <td>210381</td>\n",
       "      <td>SINOVAC/BUTANTAN</td>\n",
       "      <td>152</td>\n",
       "      <td>2022-01-25</td>\n",
       "      <td>2ª Dose</td>\n",
       "      <td>86</td>\n",
       "      <td>COVID-19 SINOVAC/BUTANTAN - CORONAVAC</td>\n",
       "      <td>Novo PNI</td>\n",
       "    </tr>\n",
       "  </tbody>\n",
       "</table>\n",
       "<p>5 rows × 32 columns</p>\n",
       "</div>"
      ],
      "text/plain": [
       "                                 document_id  \\\n",
       "0  80ef70f2-8f02-408e-a97f-bcb71d2c3758-i0b0   \n",
       "1  281d4917-7763-4a0f-b552-9a503d648d90-i0b0   \n",
       "2  644eace6-9042-4b18-8c2b-4ce04a6bfc62-i0b0   \n",
       "3  281fff9e-17d6-4d7b-bc19-6c272ebcf57b-i0b0   \n",
       "4  bad06ecd-96c1-492e-abc2-6619b2920424-i0b0   \n",
       "\n",
       "                                         paciente_id  paciente_idade  \\\n",
       "0  6d94def898c4e4f5b075f00f70d5ed9e6df063ab370405...            33.0   \n",
       "1  d24ae6913028e98dbe0fe12d399556c844afc7cc086964...            17.0   \n",
       "2  46bfe84764c0ec2c8ac941abccabc4683641301c4d8b44...            19.0   \n",
       "3  f1e2622f593527e8600af3eab451b979099941c5f89047...            31.0   \n",
       "4  4cd21b6d45627a075328eeebb278d9d519e089f9a15285...            22.0   \n",
       "\n",
       "  paciente_dataNascimento paciente_enumSexoBiologico  paciente_racaCor_codigo  \\\n",
       "0              1988-06-08                          M                      4.0   \n",
       "1              2004-01-17                          F                     99.0   \n",
       "2              2002-11-24                          F                      1.0   \n",
       "3              1990-06-06                          M                      4.0   \n",
       "4              1999-05-24                          M                      3.0   \n",
       "\n",
       "  paciente_racaCor_valor paciente_endereco_coIbgeMunicipio  \\\n",
       "0                AMARELA                          120040.0   \n",
       "1         SEM INFORMACAO                          120010.0   \n",
       "2                 BRANCA                          120040.0   \n",
       "3                AMARELA                          130165.0   \n",
       "4                  PARDA                          120033.0   \n",
       "\n",
       "  paciente_endereco_coPais paciente_endereco_nmMunicipio  ...  \\\n",
       "0                     10.0                    RIO BRANCO  ...   \n",
       "1                     10.0                     BRASILEIA  ...   \n",
       "2                     10.0                    RIO BRANCO  ...   \n",
       "3                     10.0                       GUAJARA  ...   \n",
       "4                     10.0                   MANCIO LIMA  ...   \n",
       "\n",
       "  vacina_categoria_codigo vacina_categoria_nome  vacina_lote  \\\n",
       "0                     2.0          Faixa Etária  215VCD011VA   \n",
       "1                     2.0          Faixa Etária       FA9096   \n",
       "2                     2.0          Faixa Etária   21PVCD368Z   \n",
       "3                     2.0          Faixa Etária       210342   \n",
       "4                     2.0          Faixa Etária       210381   \n",
       "\n",
       "  vacina_fabricante_nome  vacina_fabricante_referencia vacina_dataAplicacao  \\\n",
       "0    ASTRAZENECA/FIOCRUZ   Organization/33781055000135           2021-07-05   \n",
       "1                 PFIZER   Organization/00394544000851           2021-08-11   \n",
       "2    ASTRAZENECA/FIOCRUZ                           149           2022-07-28   \n",
       "3       SINOVAC/BUTANTAN              Organization/152           2021-12-01   \n",
       "4       SINOVAC/BUTANTAN                           152           2022-01-25   \n",
       "\n",
       "  vacina_descricao_dose  vacina_codigo  \\\n",
       "0               1ª Dose             85   \n",
       "1               1ª Dose             87   \n",
       "2               Reforço             85   \n",
       "3               2ª Dose             86   \n",
       "4               2ª Dose             86   \n",
       "\n",
       "                                 vacina_nome sistema_origem  \n",
       "0  COVID-19 ASTRAZENECA/FIOCRUZ - COVISHIELD       Novo PNI  \n",
       "1                COVID-19 PFIZER - COMIRNATY       Novo PNI  \n",
       "2  COVID-19 ASTRAZENECA/FIOCRUZ - COVISHIELD       Novo PNI  \n",
       "3      COVID-19 SINOVAC/BUTANTAN - CORONAVAC       Novo PNI  \n",
       "4      COVID-19 SINOVAC/BUTANTAN - CORONAVAC       Novo PNI  \n",
       "\n",
       "[5 rows x 32 columns]"
      ]
     },
     "execution_count": 28,
     "metadata": {},
     "output_type": "execute_result"
    }
   ],
   "source": [
    "df.head()"
   ]
  },
  {
   "cell_type": "code",
   "execution_count": 22,
   "metadata": {},
   "outputs": [
    {
     "data": {
      "text/plain": [
       "551221"
      ]
     },
     "execution_count": 22,
     "metadata": {},
     "output_type": "execute_result"
    }
   ],
   "source": [
    "df.shape[0]"
   ]
  },
  {
   "cell_type": "code",
   "execution_count": 23,
   "metadata": {},
   "outputs": [
    {
     "data": {
      "text/plain": [
       "array(['6d94def898c4e4f5b075f00f70d5ed9e6df063ab3704059c681a91dca3ff6f64',\n",
       "       'd24ae6913028e98dbe0fe12d399556c844afc7cc086964158f1cd0bc4bf6b8cd',\n",
       "       '46bfe84764c0ec2c8ac941abccabc4683641301c4d8b44c808339d9387c5f2a7',\n",
       "       ...,\n",
       "       'db12f5e113df9fd59450f9ac09580199b47410e09318242ff070f2ef15d5b52c',\n",
       "       '53a21b19090e69145108f97de5a72610db1b1383b9914747b6911b6a20a4f411',\n",
       "       'ede2ec24eae3e257b9acb6c57f8651c60e0d016aeb8c002a45439b049d7944bc'],\n",
       "      dtype=object)"
      ]
     },
     "execution_count": 23,
     "metadata": {},
     "output_type": "execute_result"
    }
   ],
   "source": [
    "df['paciente_id'].unique()"
   ]
  },
  {
   "cell_type": "code",
   "execution_count": 24,
   "metadata": {},
   "outputs": [
    {
     "data": {
      "text/plain": [
       "227941"
      ]
     },
     "execution_count": 24,
     "metadata": {},
     "output_type": "execute_result"
    }
   ],
   "source": [
    "primeira_dose = df['vacina_descricao_dose'].unique()[0]\n",
    "df['paciente_id'].loc[df['vacina_descricao_dose'] == primeira_dose].nunique()"
   ]
  },
  {
   "cell_type": "code",
   "execution_count": 25,
   "metadata": {},
   "outputs": [
    {
     "data": {
      "text/plain": [
       "227941"
      ]
     },
     "execution_count": 25,
     "metadata": {},
     "output_type": "execute_result"
    }
   ],
   "source": [
    "primeira_dose = df['vacina_descricao_dose'].unique()[0]\n",
    "df_primeira_dose = df[df['vacina_descricao_dose'] == primeira_dose]\n",
    "df_primeira_dose['paciente_id'].nunique()"
   ]
  },
  {
   "cell_type": "code",
   "execution_count": 26,
   "metadata": {},
   "outputs": [
    {
     "data": {
      "text/plain": [
       "78088"
      ]
     },
     "execution_count": 26,
     "metadata": {},
     "output_type": "execute_result"
    }
   ],
   "source": [
    "df_menor = df[df[\"paciente_idade\"]<18]\n",
    "df_menor['paciente_id'].nunique()"
   ]
  },
  {
   "cell_type": "code",
   "execution_count": 30,
   "metadata": {
    "scrolled": true
   },
   "outputs": [
    {
     "data": {
      "text/plain": [
       "31924"
      ]
     },
     "execution_count": 30,
     "metadata": {},
     "output_type": "execute_result"
    }
   ],
   "source": [
    "df['paciente_dataNascimento'].nunique()"
   ]
  },
  {
   "cell_type": "markdown",
   "metadata": {},
   "source": [
    "## 4) Vacinação II\n",
    "Gere um *DataFrame* que contenha somente os estabelecimentos que aplicaram vcinas a menores de 18 anos. Nesse *DataFrame* devem conter somente os dados dos estabelecimentos, mais uma coluna sendo a quantidade de vacinas que o estabelecimento aplicou a menores de 18 anos.  \n",
    "  \n",
    "1. crie uma cópia do *DataFrame* original, contendo somente os registros de vacinas realizadas a menores de 18 anos.  \n",
    "2. crie uma lista das colunas desse *DataFrame* com o atributo de *DataFrame* **.columns()**  \n",
    "3. Nesse *DataFrame* faça uma contagem do campo ```vacina_categoria_nome```.\n",
    "3. a partir da lista de colunas, escolha somente aquelas que são referentes ao estabelecimento, faça uma lista com esses valores.  \n",
    "4. usando o método *.loc*, selecione somente essas variáveis  \n",
    "5. Aplique o método **.drop_duplicates** e crie uma lista com uma linha para cada estabelecimento, com os dados do estabelecimento  "
   ]
  },
  {
   "cell_type": "code",
   "execution_count": 31,
   "metadata": {},
   "outputs": [],
   "source": [
    "df_menor = df[df[\"paciente_idade\"]<18].copy()"
   ]
  },
  {
   "cell_type": "code",
   "execution_count": 32,
   "metadata": {},
   "outputs": [
    {
     "data": {
      "text/plain": [
       "Index(['document_id', 'paciente_id', 'paciente_idade',\n",
       "       'paciente_dataNascimento', 'paciente_enumSexoBiologico',\n",
       "       'paciente_racaCor_codigo', 'paciente_racaCor_valor',\n",
       "       'paciente_endereco_coIbgeMunicipio', 'paciente_endereco_coPais',\n",
       "       'paciente_endereco_nmMunicipio', 'paciente_endereco_nmPais',\n",
       "       'paciente_endereco_uf', 'paciente_endereco_cep',\n",
       "       'paciente_nacionalidade_enumNacionalidade', 'estabelecimento_valor',\n",
       "       'estabelecimento_razaoSocial', 'estalecimento_noFantasia',\n",
       "       'estabelecimento_municipio_codigo', 'estabelecimento_municipio_nome',\n",
       "       'estabelecimento_uf', 'vacina_grupoAtendimento_codigo',\n",
       "       'vacina_grupoAtendimento_nome', 'vacina_categoria_codigo',\n",
       "       'vacina_categoria_nome', 'vacina_lote', 'vacina_fabricante_nome',\n",
       "       'vacina_fabricante_referencia', 'vacina_dataAplicacao',\n",
       "       'vacina_descricao_dose', 'vacina_codigo', 'vacina_nome',\n",
       "       'sistema_origem'],\n",
       "      dtype='object')"
      ]
     },
     "execution_count": 32,
     "metadata": {},
     "output_type": "execute_result"
    }
   ],
   "source": [
    "df_menor.columns"
   ]
  },
  {
   "cell_type": "code",
   "execution_count": 33,
   "metadata": {},
   "outputs": [
    {
     "data": {
      "text/plain": [
       "Faixa Etária                                      51762\n",
       "Outros                                             6144\n",
       "Povos Indígenas                                    2320\n",
       "Povos e Comunidades Tradicionais                    577\n",
       "Trabalhadores de Saúde                              395\n",
       "População Privada de Liberdade                       69\n",
       "Comorbidades                                         49\n",
       "Gestantes                                            31\n",
       "Pessoas com Deficiência                               3\n",
       "Pessoas de 60 anos ou mais institucionalizadas        1\n",
       "Puérperas                                             1\n",
       "Trabalhadores da Educação                             1\n",
       "Name: vacina_categoria_nome, dtype: int64"
      ]
     },
     "execution_count": 33,
     "metadata": {},
     "output_type": "execute_result"
    }
   ],
   "source": [
    "df_menor['vacina_categoria_nome'].value_counts()"
   ]
  },
  {
   "cell_type": "code",
   "execution_count": 35,
   "metadata": {},
   "outputs": [],
   "source": [
    "lista_variaveis = ['estabelecimento_valor',\n",
    "       'estabelecimento_municipio_codigo', 'estabelecimento_municipio_nome',\n",
    "       'estabelecimento_uf']\n",
    "df_menor_lista = df_menor.loc[:,lista_variaveis]"
   ]
  },
  {
   "cell_type": "code",
   "execution_count": 36,
   "metadata": {},
   "outputs": [
    {
     "data": {
      "text/plain": [
       "(109, 4)"
      ]
     },
     "execution_count": 36,
     "metadata": {},
     "output_type": "execute_result"
    }
   ],
   "source": [
    "df_menor_lista = df_menor_lista.drop_duplicates()\n",
    "df_menor_lista.shape"
   ]
  }
 ],
 "metadata": {
  "kernelspec": {
   "display_name": "Python 3 (ipykernel)",
   "language": "python",
   "name": "python3"
  },
  "language_info": {
   "codemirror_mode": {
    "name": "ipython",
    "version": 3
   },
   "file_extension": ".py",
   "mimetype": "text/x-python",
   "name": "python",
   "nbconvert_exporter": "python",
   "pygments_lexer": "ipython3",
   "version": "3.9.13"
  },
  "toc": {
   "base_numbering": 1,
   "nav_menu": {},
   "number_sections": false,
   "sideBar": true,
   "skip_h1_title": true,
   "title_cell": "Índice",
   "title_sidebar": "Conteúdo",
   "toc_cell": false,
   "toc_position": {},
   "toc_section_display": true,
   "toc_window_display": false
  },
  "varInspector": {
   "cols": {
    "lenName": 16,
    "lenType": 16,
    "lenVar": 40
   },
   "kernels_config": {
    "python": {
     "delete_cmd_postfix": "",
     "delete_cmd_prefix": "del ",
     "library": "var_list.py",
     "varRefreshCmd": "print(var_dic_list())"
    },
    "r": {
     "delete_cmd_postfix": ") ",
     "delete_cmd_prefix": "rm(",
     "library": "var_list.r",
     "varRefreshCmd": "cat(var_dic_list()) "
    }
   },
   "types_to_exclude": [
    "module",
    "function",
    "builtin_function_or_method",
    "instance",
    "_Feature"
   ],
   "window_display": false
  }
 },
 "nbformat": 4,
 "nbformat_minor": 4
}
