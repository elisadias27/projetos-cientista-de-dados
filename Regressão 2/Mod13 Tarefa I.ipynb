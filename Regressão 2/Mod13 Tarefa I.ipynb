{
 "cells": [
  {
   "cell_type": "markdown",
   "metadata": {},
   "source": [
    "# EBAC - Regressão II - regressão múltipla\n",
    "\n",
    "## Tarefa I"
   ]
  },
  {
   "cell_type": "markdown",
   "metadata": {},
   "source": [
    "#### Previsão de renda\n",
    "\n",
    "Vamos trabalhar com a base 'previsao_de_renda.csv', que é a base do seu próximo projeto. Vamos usar os recursos que vimos até aqui nesta base.\n",
    "\n",
    "|variavel|descrição|\n",
    "|-|-|\n",
    "|data_ref                | Data de referência de coleta das variáveis |\n",
    "|index                   | Código de identificação do cliente|\n",
    "|sexo                    | Sexo do cliente|\n",
    "|posse_de_veiculo        | Indica se o cliente possui veículo|\n",
    "|posse_de_imovel         | Indica se o cliente possui imóvel|\n",
    "|qtd_filhos              | Quantidade de filhos do cliente|\n",
    "|tipo_renda              | Tipo de renda do cliente|\n",
    "|educacao                | Grau de instrução do cliente|\n",
    "|estado_civil            | Estado civil do cliente|\n",
    "|tipo_residencia         | Tipo de residência do cliente (própria, alugada etc)|\n",
    "|idade                   | Idade do cliente|\n",
    "|tempo_emprego           | Tempo no emprego atual|\n",
    "|qt_pessoas_residencia   | Quantidade de pessoas que moram na residência|\n",
    "|renda                   | Renda em reais|"
   ]
  },
  {
   "cell_type": "code",
   "execution_count": 45,
   "metadata": {},
   "outputs": [],
   "source": [
    "import pandas as pd\n",
    "import numpy as np\n",
    "\n",
    "import patsy\n",
    "import statsmodels.formula.api as smf\n",
    "import statsmodels.api as sm"
   ]
  },
  {
   "cell_type": "code",
   "execution_count": 26,
   "metadata": {},
   "outputs": [],
   "source": [
    "pr = pd.read_csv('previsao_de_renda.csv')"
   ]
  },
  {
   "cell_type": "code",
   "execution_count": 27,
   "metadata": {},
   "outputs": [
    {
     "name": "stdout",
     "output_type": "stream",
     "text": [
      "<class 'pandas.core.frame.DataFrame'>\n",
      "RangeIndex: 15000 entries, 0 to 14999\n",
      "Data columns (total 15 columns):\n",
      " #   Column                 Non-Null Count  Dtype  \n",
      "---  ------                 --------------  -----  \n",
      " 0   Unnamed: 0             15000 non-null  int64  \n",
      " 1   data_ref               15000 non-null  object \n",
      " 2   id_cliente             15000 non-null  int64  \n",
      " 3   sexo                   15000 non-null  object \n",
      " 4   posse_de_veiculo       15000 non-null  bool   \n",
      " 5   posse_de_imovel        15000 non-null  bool   \n",
      " 6   qtd_filhos             15000 non-null  int64  \n",
      " 7   tipo_renda             15000 non-null  object \n",
      " 8   educacao               15000 non-null  object \n",
      " 9   estado_civil           15000 non-null  object \n",
      " 10  tipo_residencia        15000 non-null  object \n",
      " 11  idade                  15000 non-null  int64  \n",
      " 12  tempo_emprego          12427 non-null  float64\n",
      " 13  qt_pessoas_residencia  15000 non-null  float64\n",
      " 14  renda                  15000 non-null  float64\n",
      "dtypes: bool(2), float64(3), int64(4), object(6)\n",
      "memory usage: 1.5+ MB\n"
     ]
    }
   ],
   "source": [
    "pr.info()"
   ]
  },
  {
   "cell_type": "markdown",
   "metadata": {},
   "source": [
    "1. Ajuste um modelo para prever log(renda) considerando todas as covariáveis disponíveis.\n",
    "    - Utilizando os recursos do Patsy, coloque as variáveis qualitativas como *dummies*.\n",
    "    - Mantenha sempre a categoria mais frequente como casela de referência\n",
    "    - Avalie os parâmetros e veja se parecem fazer sentido prático.\n",
    "\n",
    "2. Remova a variável menos significante e analise:\n",
    "    - Observe os indicadores que vimos, e avalie se o modelo melhorou ou piorou na sua opinião.\n",
    "    - Observe os parâmetros e veja se algum se alterou muito.\n",
    "\n",
    "3. Siga removendo as variáveis menos significantes, sempre que o *p-value* for menor que 5%. Compare o modelo final com o inicial. Observe os indicadores e conclua se o modelo parece melhor. \n",
    "    "
   ]
  },
  {
   "cell_type": "code",
   "execution_count": 40,
   "metadata": {},
   "outputs": [
    {
     "data": {
      "text/plain": [
       "DesignMatrix with shape (15000, 5)\n",
       "  Columns:\n",
       "    ['Intercept',\n",
       "     'C(tipo_renda)[T.Bolsista]',\n",
       "     'C(tipo_renda)[T.Empresário]',\n",
       "     'C(tipo_renda)[T.Pensionista]',\n",
       "     'C(tipo_renda)[T.Servidor público]']\n",
       "  Terms:\n",
       "    'Intercept' (column 0), 'C(tipo_renda)' (columns 1:5)\n",
       "  (to view full data, use np.asarray(this_obj))"
      ]
     },
     "execution_count": 40,
     "metadata": {},
     "output_type": "execute_result"
    }
   ],
   "source": [
    "y, x = patsy.dmatrices('renda ~ C(tipo_renda)', data = pr)\n",
    "x"
   ]
  },
  {
   "cell_type": "code",
   "execution_count": 41,
   "metadata": {
    "scrolled": true
   },
   "outputs": [
    {
     "data": {
      "text/html": [
       "<div>\n",
       "<style scoped>\n",
       "    .dataframe tbody tr th:only-of-type {\n",
       "        vertical-align: middle;\n",
       "    }\n",
       "\n",
       "    .dataframe tbody tr th {\n",
       "        vertical-align: top;\n",
       "    }\n",
       "\n",
       "    .dataframe thead th {\n",
       "        text-align: right;\n",
       "    }\n",
       "</style>\n",
       "<table border=\"1\" class=\"dataframe\">\n",
       "  <thead>\n",
       "    <tr style=\"text-align: right;\">\n",
       "      <th></th>\n",
       "      <th>tipo_renda</th>\n",
       "    </tr>\n",
       "  </thead>\n",
       "  <tbody>\n",
       "    <tr>\n",
       "      <th>0</th>\n",
       "      <td>1</td>\n",
       "    </tr>\n",
       "    <tr>\n",
       "      <th>1</th>\n",
       "      <td>2</td>\n",
       "    </tr>\n",
       "    <tr>\n",
       "      <th>2</th>\n",
       "      <td>3</td>\n",
       "    </tr>\n",
       "    <tr>\n",
       "      <th>3</th>\n",
       "      <td>4</td>\n",
       "    </tr>\n",
       "  </tbody>\n",
       "</table>\n",
       "</div>"
      ],
      "text/plain": [
       "   tipo_renda\n",
       "0           1\n",
       "1           2\n",
       "2           3\n",
       "3           4"
      ]
     },
     "execution_count": 41,
     "metadata": {},
     "output_type": "execute_result"
    }
   ],
   "source": [
    "tabela = pd.DataFrame({'tipo_renda': [1,2,3,4]})\n",
    "tabela"
   ]
  },
  {
   "cell_type": "code",
   "execution_count": 42,
   "metadata": {},
   "outputs": [
    {
     "data": {
      "text/plain": [
       "DesignMatrix with shape (4, 4)\n",
       "  Intercept  C(tipo_renda)[T.2]  C(tipo_renda)[T.3]  C(tipo_renda)[T.4]\n",
       "          1                   0                   0                   0\n",
       "          1                   1                   0                   0\n",
       "          1                   0                   1                   0\n",
       "          1                   0                   0                   1\n",
       "  Terms:\n",
       "    'Intercept' (column 0)\n",
       "    'C(tipo_renda)' (columns 1:4)"
      ]
     },
     "execution_count": 42,
     "metadata": {},
     "output_type": "execute_result"
    }
   ],
   "source": [
    "from patsy import dmatrix\n",
    "dmatrix(\"C(tipo_renda)\", tabela)"
   ]
  },
  {
   "cell_type": "code",
   "execution_count": 43,
   "metadata": {},
   "outputs": [
    {
     "data": {
      "text/plain": [
       "DesignMatrix with shape (15000, 5)\n",
       "  Columns:\n",
       "    ['Intercept',\n",
       "     'C(tipo_renda)[T.Bolsista]',\n",
       "     'C(tipo_renda)[T.Empresário]',\n",
       "     'C(tipo_renda)[T.Pensionista]',\n",
       "     'C(tipo_renda)[T.Servidor público]']\n",
       "  Terms:\n",
       "    'Intercept' (column 0), 'C(tipo_renda)' (columns 1:5)\n",
       "  (to view full data, use np.asarray(this_obj))"
      ]
     },
     "execution_count": 43,
     "metadata": {},
     "output_type": "execute_result"
    }
   ],
   "source": [
    "y, x = patsy.dmatrices('renda ~ C(tipo_renda)', data = pr)\n",
    "x"
   ]
  },
  {
   "cell_type": "code",
   "execution_count": 46,
   "metadata": {},
   "outputs": [
    {
     "data": {
      "text/html": [
       "<table class=\"simpletable\">\n",
       "<caption>OLS Regression Results</caption>\n",
       "<tr>\n",
       "  <th>Dep. Variable:</th>          <td>renda</td>      <th>  R-squared:         </th>  <td>   0.014</td>  \n",
       "</tr>\n",
       "<tr>\n",
       "  <th>Model:</th>                   <td>OLS</td>       <th>  Adj. R-squared:    </th>  <td>   0.014</td>  \n",
       "</tr>\n",
       "<tr>\n",
       "  <th>Method:</th>             <td>Least Squares</td>  <th>  F-statistic:       </th>  <td>   54.21</td>  \n",
       "</tr>\n",
       "<tr>\n",
       "  <th>Date:</th>             <td>Thu, 01 Dec 2022</td> <th>  Prob (F-statistic):</th>  <td>1.91e-45</td>  \n",
       "</tr>\n",
       "<tr>\n",
       "  <th>Time:</th>                 <td>17:19:00</td>     <th>  Log-Likelihood:    </th> <td>-1.5648e+05</td>\n",
       "</tr>\n",
       "<tr>\n",
       "  <th>No. Observations:</th>      <td> 15000</td>      <th>  AIC:               </th>  <td>3.130e+05</td> \n",
       "</tr>\n",
       "<tr>\n",
       "  <th>Df Residuals:</th>          <td> 14995</td>      <th>  BIC:               </th>  <td>3.130e+05</td> \n",
       "</tr>\n",
       "<tr>\n",
       "  <th>Df Model:</th>              <td>     4</td>      <th>                     </th>      <td> </td>     \n",
       "</tr>\n",
       "<tr>\n",
       "  <th>Covariance Type:</th>      <td>nonrobust</td>    <th>                     </th>      <td> </td>     \n",
       "</tr>\n",
       "</table>\n",
       "<table class=\"simpletable\">\n",
       "<tr>\n",
       "                  <td></td>                     <th>coef</th>     <th>std err</th>      <th>t</th>      <th>P>|t|</th>  <th>[0.025</th>    <th>0.975]</th>  \n",
       "</tr>\n",
       "<tr>\n",
       "  <th>Intercept</th>                         <td> 6043.2051</td> <td>   93.957</td> <td>   64.319</td> <td> 0.000</td> <td> 5859.037</td> <td> 6227.373</td>\n",
       "</tr>\n",
       "<tr>\n",
       "  <th>C(tipo_renda)[T.Bolsista]</th>         <td>-1118.2940</td> <td> 2737.871</td> <td>   -0.408</td> <td> 0.683</td> <td>-6484.856</td> <td> 4248.268</td>\n",
       "</tr>\n",
       "<tr>\n",
       "  <th>C(tipo_renda)[T.Empresário]</th>       <td> -157.1504</td> <td>  167.441</td> <td>   -0.939</td> <td> 0.348</td> <td> -485.356</td> <td>  171.055</td>\n",
       "</tr>\n",
       "<tr>\n",
       "  <th>C(tipo_renda)[T.Pensionista]</th>      <td>-2372.8003</td> <td>  186.884</td> <td>  -12.697</td> <td> 0.000</td> <td>-2739.116</td> <td>-2006.485</td>\n",
       "</tr>\n",
       "<tr>\n",
       "  <th>C(tipo_renda)[T.Servidor público]</th> <td> 1182.2933</td> <td>  248.938</td> <td>    4.749</td> <td> 0.000</td> <td>  694.345</td> <td> 1670.241</td>\n",
       "</tr>\n",
       "</table>\n",
       "<table class=\"simpletable\">\n",
       "<tr>\n",
       "  <th>Omnibus:</th>       <td>21537.766</td> <th>  Durbin-Watson:     </th>   <td>   2.023</td>  \n",
       "</tr>\n",
       "<tr>\n",
       "  <th>Prob(Omnibus):</th>  <td> 0.000</td>   <th>  Jarque-Bera (JB):  </th> <td>11409531.743</td>\n",
       "</tr>\n",
       "<tr>\n",
       "  <th>Skew:</th>           <td> 8.431</td>   <th>  Prob(JB):          </th>   <td>    0.00</td>  \n",
       "</tr>\n",
       "<tr>\n",
       "  <th>Kurtosis:</th>       <td>137.056</td>  <th>  Cond. No.          </th>   <td>    42.9</td>  \n",
       "</tr>\n",
       "</table><br/><br/>Notes:<br/>[1] Standard Errors assume that the covariance matrix of the errors is correctly specified."
      ],
      "text/plain": [
       "<class 'statsmodels.iolib.summary.Summary'>\n",
       "\"\"\"\n",
       "                            OLS Regression Results                            \n",
       "==============================================================================\n",
       "Dep. Variable:                  renda   R-squared:                       0.014\n",
       "Model:                            OLS   Adj. R-squared:                  0.014\n",
       "Method:                 Least Squares   F-statistic:                     54.21\n",
       "Date:                Thu, 01 Dec 2022   Prob (F-statistic):           1.91e-45\n",
       "Time:                        17:19:00   Log-Likelihood:            -1.5648e+05\n",
       "No. Observations:               15000   AIC:                         3.130e+05\n",
       "Df Residuals:                   14995   BIC:                         3.130e+05\n",
       "Df Model:                           4                                         \n",
       "Covariance Type:            nonrobust                                         \n",
       "=====================================================================================================\n",
       "                                        coef    std err          t      P>|t|      [0.025      0.975]\n",
       "-----------------------------------------------------------------------------------------------------\n",
       "Intercept                          6043.2051     93.957     64.319      0.000    5859.037    6227.373\n",
       "C(tipo_renda)[T.Bolsista]         -1118.2940   2737.871     -0.408      0.683   -6484.856    4248.268\n",
       "C(tipo_renda)[T.Empresário]        -157.1504    167.441     -0.939      0.348    -485.356     171.055\n",
       "C(tipo_renda)[T.Pensionista]      -2372.8003    186.884    -12.697      0.000   -2739.116   -2006.485\n",
       "C(tipo_renda)[T.Servidor público]  1182.2933    248.938      4.749      0.000     694.345    1670.241\n",
       "==============================================================================\n",
       "Omnibus:                    21537.766   Durbin-Watson:                   2.023\n",
       "Prob(Omnibus):                  0.000   Jarque-Bera (JB):         11409531.743\n",
       "Skew:                           8.431   Prob(JB):                         0.00\n",
       "Kurtosis:                     137.056   Cond. No.                         42.9\n",
       "==============================================================================\n",
       "\n",
       "Notes:\n",
       "[1] Standard Errors assume that the covariance matrix of the errors is correctly specified.\n",
       "\"\"\""
      ]
     },
     "execution_count": 46,
     "metadata": {},
     "output_type": "execute_result"
    }
   ],
   "source": [
    "sm.OLS(y, x).fit().summary()"
   ]
  },
  {
   "cell_type": "code",
   "execution_count": 47,
   "metadata": {},
   "outputs": [
    {
     "data": {
      "text/plain": [
       "DesignMatrix with shape (15000, 5)\n",
       "  Columns:\n",
       "    ['Intercept',\n",
       "     'C(tipo_renda, Treatment(2))[T.Assalariado]',\n",
       "     'C(tipo_renda, Treatment(2))[T.Bolsista]',\n",
       "     'C(tipo_renda, Treatment(2))[T.Pensionista]',\n",
       "     'C(tipo_renda, Treatment(2))[T.Servidor público]']\n",
       "  Terms:\n",
       "    'Intercept' (column 0)\n",
       "    'C(tipo_renda, Treatment(2))' (columns 1:5)\n",
       "  (to view full data, use np.asarray(this_obj))"
      ]
     },
     "execution_count": 47,
     "metadata": {},
     "output_type": "execute_result"
    }
   ],
   "source": [
    "y, x = patsy.dmatrices('renda ~ C(tipo_renda, Treatment(2))', data = pr)\n",
    "x"
   ]
  },
  {
   "cell_type": "code",
   "execution_count": 48,
   "metadata": {},
   "outputs": [
    {
     "data": {
      "text/html": [
       "<table class=\"simpletable\">\n",
       "<caption>OLS Regression Results</caption>\n",
       "<tr>\n",
       "  <th>Dep. Variable:</th>          <td>renda</td>      <th>  R-squared:         </th>  <td>   0.014</td>  \n",
       "</tr>\n",
       "<tr>\n",
       "  <th>Model:</th>                   <td>OLS</td>       <th>  Adj. R-squared:    </th>  <td>   0.014</td>  \n",
       "</tr>\n",
       "<tr>\n",
       "  <th>Method:</th>             <td>Least Squares</td>  <th>  F-statistic:       </th>  <td>   54.21</td>  \n",
       "</tr>\n",
       "<tr>\n",
       "  <th>Date:</th>             <td>Thu, 01 Dec 2022</td> <th>  Prob (F-statistic):</th>  <td>1.91e-45</td>  \n",
       "</tr>\n",
       "<tr>\n",
       "  <th>Time:</th>                 <td>17:29:17</td>     <th>  Log-Likelihood:    </th> <td>-1.5648e+05</td>\n",
       "</tr>\n",
       "<tr>\n",
       "  <th>No. Observations:</th>      <td> 15000</td>      <th>  AIC:               </th>  <td>3.130e+05</td> \n",
       "</tr>\n",
       "<tr>\n",
       "  <th>Df Residuals:</th>          <td> 14995</td>      <th>  BIC:               </th>  <td>3.130e+05</td> \n",
       "</tr>\n",
       "<tr>\n",
       "  <th>Df Model:</th>              <td>     4</td>      <th>                     </th>      <td> </td>     \n",
       "</tr>\n",
       "<tr>\n",
       "  <th>Covariance Type:</th>      <td>nonrobust</td>    <th>                     </th>      <td> </td>     \n",
       "</tr>\n",
       "</table>\n",
       "<table class=\"simpletable\">\n",
       "<tr>\n",
       "                         <td></td>                            <th>coef</th>     <th>std err</th>      <th>t</th>      <th>P>|t|</th>  <th>[0.025</th>    <th>0.975]</th>  \n",
       "</tr>\n",
       "<tr>\n",
       "  <th>Intercept</th>                                       <td> 5886.0547</td> <td>  138.595</td> <td>   42.469</td> <td> 0.000</td> <td> 5614.391</td> <td> 6157.718</td>\n",
       "</tr>\n",
       "<tr>\n",
       "  <th>C(tipo_renda, Treatment(2))[T.Assalariado]</th>      <td>  157.1504</td> <td>  167.441</td> <td>    0.939</td> <td> 0.348</td> <td> -171.055</td> <td>  485.356</td>\n",
       "</tr>\n",
       "<tr>\n",
       "  <th>C(tipo_renda, Treatment(2))[T.Bolsista]</th>         <td> -961.1436</td> <td> 2739.766</td> <td>   -0.351</td> <td> 0.726</td> <td>-6331.420</td> <td> 4409.133</td>\n",
       "</tr>\n",
       "<tr>\n",
       "  <th>C(tipo_renda, Treatment(2))[T.Pensionista]</th>      <td>-2215.6499</td> <td>  212.853</td> <td>  -10.409</td> <td> 0.000</td> <td>-2632.867</td> <td>-1798.433</td>\n",
       "</tr>\n",
       "<tr>\n",
       "  <th>C(tipo_renda, Treatment(2))[T.Servidor público]</th> <td> 1339.4437</td> <td>  268.981</td> <td>    4.980</td> <td> 0.000</td> <td>  812.209</td> <td> 1866.679</td>\n",
       "</tr>\n",
       "</table>\n",
       "<table class=\"simpletable\">\n",
       "<tr>\n",
       "  <th>Omnibus:</th>       <td>21537.766</td> <th>  Durbin-Watson:     </th>   <td>   2.023</td>  \n",
       "</tr>\n",
       "<tr>\n",
       "  <th>Prob(Omnibus):</th>  <td> 0.000</td>   <th>  Jarque-Bera (JB):  </th> <td>11409531.743</td>\n",
       "</tr>\n",
       "<tr>\n",
       "  <th>Skew:</th>           <td> 8.431</td>   <th>  Prob(JB):          </th>   <td>    0.00</td>  \n",
       "</tr>\n",
       "<tr>\n",
       "  <th>Kurtosis:</th>       <td>137.056</td>  <th>  Cond. No.          </th>   <td>    47.4</td>  \n",
       "</tr>\n",
       "</table><br/><br/>Notes:<br/>[1] Standard Errors assume that the covariance matrix of the errors is correctly specified."
      ],
      "text/plain": [
       "<class 'statsmodels.iolib.summary.Summary'>\n",
       "\"\"\"\n",
       "                            OLS Regression Results                            \n",
       "==============================================================================\n",
       "Dep. Variable:                  renda   R-squared:                       0.014\n",
       "Model:                            OLS   Adj. R-squared:                  0.014\n",
       "Method:                 Least Squares   F-statistic:                     54.21\n",
       "Date:                Thu, 01 Dec 2022   Prob (F-statistic):           1.91e-45\n",
       "Time:                        17:29:17   Log-Likelihood:            -1.5648e+05\n",
       "No. Observations:               15000   AIC:                         3.130e+05\n",
       "Df Residuals:                   14995   BIC:                         3.130e+05\n",
       "Df Model:                           4                                         \n",
       "Covariance Type:            nonrobust                                         \n",
       "===================================================================================================================\n",
       "                                                      coef    std err          t      P>|t|      [0.025      0.975]\n",
       "-------------------------------------------------------------------------------------------------------------------\n",
       "Intercept                                        5886.0547    138.595     42.469      0.000    5614.391    6157.718\n",
       "C(tipo_renda, Treatment(2))[T.Assalariado]        157.1504    167.441      0.939      0.348    -171.055     485.356\n",
       "C(tipo_renda, Treatment(2))[T.Bolsista]          -961.1436   2739.766     -0.351      0.726   -6331.420    4409.133\n",
       "C(tipo_renda, Treatment(2))[T.Pensionista]      -2215.6499    212.853    -10.409      0.000   -2632.867   -1798.433\n",
       "C(tipo_renda, Treatment(2))[T.Servidor público]  1339.4437    268.981      4.980      0.000     812.209    1866.679\n",
       "==============================================================================\n",
       "Omnibus:                    21537.766   Durbin-Watson:                   2.023\n",
       "Prob(Omnibus):                  0.000   Jarque-Bera (JB):         11409531.743\n",
       "Skew:                           8.431   Prob(JB):                         0.00\n",
       "Kurtosis:                     137.056   Cond. No.                         47.4\n",
       "==============================================================================\n",
       "\n",
       "Notes:\n",
       "[1] Standard Errors assume that the covariance matrix of the errors is correctly specified.\n",
       "\"\"\""
      ]
     },
     "execution_count": 48,
     "metadata": {},
     "output_type": "execute_result"
    }
   ],
   "source": [
    "sm.OLS(y, x).fit().summary()"
   ]
  },
  {
   "cell_type": "code",
   "execution_count": 50,
   "metadata": {},
   "outputs": [
    {
     "data": {
      "text/plain": [
       "DesignMatrix with shape (15000, 5)\n",
       "  Columns:\n",
       "    ['Intercept',\n",
       "     'C(tipo_renda, Treatment(3))[T.Assalariado]',\n",
       "     'C(tipo_renda, Treatment(3))[T.Bolsista]',\n",
       "     'C(tipo_renda, Treatment(3))[T.Empresário]',\n",
       "     'C(tipo_renda, Treatment(3))[T.Servidor público]']\n",
       "  Terms:\n",
       "    'Intercept' (column 0)\n",
       "    'C(tipo_renda, Treatment(3))' (columns 1:5)\n",
       "  (to view full data, use np.asarray(this_obj))"
      ]
     },
     "execution_count": 50,
     "metadata": {},
     "output_type": "execute_result"
    }
   ],
   "source": [
    "y, x = patsy.dmatrices('renda ~ C(tipo_renda, Treatment(3))', data = pr)\n",
    "x"
   ]
  },
  {
   "cell_type": "code",
   "execution_count": 51,
   "metadata": {},
   "outputs": [
    {
     "data": {
      "text/html": [
       "<table class=\"simpletable\">\n",
       "<caption>OLS Regression Results</caption>\n",
       "<tr>\n",
       "  <th>Dep. Variable:</th>          <td>renda</td>      <th>  R-squared:         </th>  <td>   0.014</td>  \n",
       "</tr>\n",
       "<tr>\n",
       "  <th>Model:</th>                   <td>OLS</td>       <th>  Adj. R-squared:    </th>  <td>   0.014</td>  \n",
       "</tr>\n",
       "<tr>\n",
       "  <th>Method:</th>             <td>Least Squares</td>  <th>  F-statistic:       </th>  <td>   54.21</td>  \n",
       "</tr>\n",
       "<tr>\n",
       "  <th>Date:</th>             <td>Thu, 01 Dec 2022</td> <th>  Prob (F-statistic):</th>  <td>1.91e-45</td>  \n",
       "</tr>\n",
       "<tr>\n",
       "  <th>Time:</th>                 <td>17:37:50</td>     <th>  Log-Likelihood:    </th> <td>-1.5648e+05</td>\n",
       "</tr>\n",
       "<tr>\n",
       "  <th>No. Observations:</th>      <td> 15000</td>      <th>  AIC:               </th>  <td>3.130e+05</td> \n",
       "</tr>\n",
       "<tr>\n",
       "  <th>Df Residuals:</th>          <td> 14995</td>      <th>  BIC:               </th>  <td>3.130e+05</td> \n",
       "</tr>\n",
       "<tr>\n",
       "  <th>Df Model:</th>              <td>     4</td>      <th>                     </th>      <td> </td>     \n",
       "</tr>\n",
       "<tr>\n",
       "  <th>Covariance Type:</th>      <td>nonrobust</td>    <th>                     </th>      <td> </td>     \n",
       "</tr>\n",
       "</table>\n",
       "<table class=\"simpletable\">\n",
       "<tr>\n",
       "                         <td></td>                            <th>coef</th>     <th>std err</th>      <th>t</th>      <th>P>|t|</th>  <th>[0.025</th>    <th>0.975]</th>  \n",
       "</tr>\n",
       "<tr>\n",
       "  <th>Intercept</th>                                       <td> 3670.4048</td> <td>  161.547</td> <td>   22.720</td> <td> 0.000</td> <td> 3353.752</td> <td> 3987.058</td>\n",
       "</tr>\n",
       "<tr>\n",
       "  <th>C(tipo_renda, Treatment(3))[T.Assalariado]</th>      <td> 2372.8003</td> <td>  186.884</td> <td>   12.697</td> <td> 0.000</td> <td> 2006.485</td> <td> 2739.116</td>\n",
       "</tr>\n",
       "<tr>\n",
       "  <th>C(tipo_renda, Treatment(3))[T.Bolsista]</th>         <td> 1254.5063</td> <td> 2741.023</td> <td>    0.458</td> <td> 0.647</td> <td>-4118.234</td> <td> 6627.246</td>\n",
       "</tr>\n",
       "<tr>\n",
       "  <th>C(tipo_renda, Treatment(3))[T.Empresário]</th>       <td> 2215.6499</td> <td>  212.853</td> <td>   10.409</td> <td> 0.000</td> <td> 1798.433</td> <td> 2632.867</td>\n",
       "</tr>\n",
       "<tr>\n",
       "  <th>C(tipo_renda, Treatment(3))[T.Servidor público]</th> <td> 3555.0936</td> <td>  281.495</td> <td>   12.629</td> <td> 0.000</td> <td> 3003.329</td> <td> 4106.859</td>\n",
       "</tr>\n",
       "</table>\n",
       "<table class=\"simpletable\">\n",
       "<tr>\n",
       "  <th>Omnibus:</th>       <td>21537.766</td> <th>  Durbin-Watson:     </th>   <td>   2.023</td>  \n",
       "</tr>\n",
       "<tr>\n",
       "  <th>Prob(Omnibus):</th>  <td> 0.000</td>   <th>  Jarque-Bera (JB):  </th> <td>11409531.743</td>\n",
       "</tr>\n",
       "<tr>\n",
       "  <th>Skew:</th>           <td> 8.431</td>   <th>  Prob(JB):          </th>   <td>    0.00</td>  \n",
       "</tr>\n",
       "<tr>\n",
       "  <th>Kurtosis:</th>       <td>137.056</td>  <th>  Cond. No.          </th>   <td>    47.7</td>  \n",
       "</tr>\n",
       "</table><br/><br/>Notes:<br/>[1] Standard Errors assume that the covariance matrix of the errors is correctly specified."
      ],
      "text/plain": [
       "<class 'statsmodels.iolib.summary.Summary'>\n",
       "\"\"\"\n",
       "                            OLS Regression Results                            \n",
       "==============================================================================\n",
       "Dep. Variable:                  renda   R-squared:                       0.014\n",
       "Model:                            OLS   Adj. R-squared:                  0.014\n",
       "Method:                 Least Squares   F-statistic:                     54.21\n",
       "Date:                Thu, 01 Dec 2022   Prob (F-statistic):           1.91e-45\n",
       "Time:                        17:37:50   Log-Likelihood:            -1.5648e+05\n",
       "No. Observations:               15000   AIC:                         3.130e+05\n",
       "Df Residuals:                   14995   BIC:                         3.130e+05\n",
       "Df Model:                           4                                         \n",
       "Covariance Type:            nonrobust                                         \n",
       "===================================================================================================================\n",
       "                                                      coef    std err          t      P>|t|      [0.025      0.975]\n",
       "-------------------------------------------------------------------------------------------------------------------\n",
       "Intercept                                        3670.4048    161.547     22.720      0.000    3353.752    3987.058\n",
       "C(tipo_renda, Treatment(3))[T.Assalariado]       2372.8003    186.884     12.697      0.000    2006.485    2739.116\n",
       "C(tipo_renda, Treatment(3))[T.Bolsista]          1254.5063   2741.023      0.458      0.647   -4118.234    6627.246\n",
       "C(tipo_renda, Treatment(3))[T.Empresário]        2215.6499    212.853     10.409      0.000    1798.433    2632.867\n",
       "C(tipo_renda, Treatment(3))[T.Servidor público]  3555.0936    281.495     12.629      0.000    3003.329    4106.859\n",
       "==============================================================================\n",
       "Omnibus:                    21537.766   Durbin-Watson:                   2.023\n",
       "Prob(Omnibus):                  0.000   Jarque-Bera (JB):         11409531.743\n",
       "Skew:                           8.431   Prob(JB):                         0.00\n",
       "Kurtosis:                     137.056   Cond. No.                         47.7\n",
       "==============================================================================\n",
       "\n",
       "Notes:\n",
       "[1] Standard Errors assume that the covariance matrix of the errors is correctly specified.\n",
       "\"\"\""
      ]
     },
     "execution_count": 51,
     "metadata": {},
     "output_type": "execute_result"
    }
   ],
   "source": [
    "sm.OLS(y, x).fit().summary()"
   ]
  },
  {
   "cell_type": "code",
   "execution_count": 53,
   "metadata": {},
   "outputs": [
    {
     "data": {
      "text/plain": [
       "DesignMatrix with shape (15000, 5)\n",
       "  Columns:\n",
       "    ['Intercept',\n",
       "     'C(tipo_renda, Treatment(3))[T.Assalariado]',\n",
       "     'C(tipo_renda, Treatment(3))[T.Bolsista]',\n",
       "     'C(tipo_renda, Treatment(3))[T.Empresário]',\n",
       "     'C(tipo_renda, Treatment(3))[T.Servidor público]']\n",
       "  Terms:\n",
       "    'Intercept' (column 0)\n",
       "    'C(tipo_renda, Treatment(3))' (columns 1:5)\n",
       "  (to view full data, use np.asarray(this_obj))"
      ]
     },
     "execution_count": 53,
     "metadata": {},
     "output_type": "execute_result"
    }
   ],
   "source": [
    "y, x = patsy.dmatrices('renda ~ C(tipo_renda, Treatment(3))', data = pr)\n",
    "x"
   ]
  },
  {
   "cell_type": "code",
   "execution_count": null,
   "metadata": {},
   "outputs": [],
   "source": []
  }
 ],
 "metadata": {
  "kernelspec": {
   "display_name": "Python 3 (ipykernel)",
   "language": "python",
   "name": "python3"
  },
  "language_info": {
   "codemirror_mode": {
    "name": "ipython",
    "version": 3
   },
   "file_extension": ".py",
   "mimetype": "text/x-python",
   "name": "python",
   "nbconvert_exporter": "python",
   "pygments_lexer": "ipython3",
   "version": "3.9.13"
  }
 },
 "nbformat": 4,
 "nbformat_minor": 4
}
